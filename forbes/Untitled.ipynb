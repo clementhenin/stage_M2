{
 "cells": [
  {
   "cell_type": "code",
   "execution_count": 20,
   "metadata": {
    "collapsed": true
   },
   "outputs": [],
   "source": [
    "%matplotlib inline"
   ]
  },
  {
   "cell_type": "code",
   "execution_count": 21,
   "metadata": {
    "collapsed": true
   },
   "outputs": [],
   "source": [
    "import pandas as pd\n",
    "from sklearn import linear_model, cross_validation\n",
    "from sklearn import grid_search\n",
    "import pylab as plt\n",
    "import numpy as np\n",
    "import statsmodels.api as sm\n",
    "from statsmodels.sandbox.regression.predstd import wls_prediction_std\n",
    "pd.set_option(\"precision\", 2)"
   ]
  },
  {
   "cell_type": "code",
   "execution_count": 31,
   "metadata": {
    "collapsed": false
   },
   "outputs": [
    {
     "name": "stdout",
     "output_type": "stream",
     "text": [
      "<class 'pandas.core.frame.DataFrame'>\n",
      "MultiIndex: 181 entries, (BGD, 1960.0) to (VEN, 1985.0)\n",
      "Data columns (total 6 columns):\n",
      "gini           181 non-null float64\n",
      "PPPI           181 non-null float64\n",
      "sch_male       181 non-null float64\n",
      "sch_female     181 non-null float64\n",
      "log(GNI_PC)    181 non-null float64\n",
      "growth         181 non-null float64\n",
      "dtypes: float64(6)\n",
      "memory usage: 9.9+ KB\n",
      "None\n",
      "Number of countries :  46\n"
     ]
    }
   ],
   "source": [
    "data = pd.read_csv(\"forbes_dataset.csv\", index_col=['code', 'year']).sort_index(level=[1,0])\n",
    "print data.info()\n",
    "print \"Number of countries : \", len(data.index.levels[0])"
   ]
  },
  {
   "cell_type": "code",
   "execution_count": 32,
   "metadata": {
    "collapsed": true
   },
   "outputs": [],
   "source": [
    "for country in sorted(np.unique(data.index.levels[0])):\n",
    "    data.loc[:, country] = (data.reset_index()['code'] == country).astype(int).values\n",
    "for period in sorted(np.unique(data.index.levels[1])):\n",
    "    data.loc[:, period] = (data.reset_index()['year'] == period).astype(int).values\n",
    "data = (data - data.mean(axis=0)) / data.std(axis=0)\n",
    "variables = data.keys().tolist()[:4] + ['log(GNI_PC)']\n",
    "dummies = sorted(np.unique(data.index.levels[0])) + sorted(np.unique(data.index.levels[1]))\n",
    "X = data[variables + dummies]\n",
    "X_dum = data[dummies]\n",
    "X_var = data[variables]\n",
    "Y = data['growth']"
   ]
  },
  {
   "cell_type": "code",
   "execution_count": 39,
   "metadata": {
    "collapsed": false
   },
   "outputs": [
    {
     "ename": "AttributeError",
     "evalue": "'RandomizedSearchCV' object has no attribute 'coef_'",
     "output_type": "error",
     "traceback": [
      "\u001b[1;31m---------------------------------------------------------------------------\u001b[0m",
      "\u001b[1;31mAttributeError\u001b[0m                            Traceback (most recent call last)",
      "\u001b[1;32m<ipython-input-39-5a412ccbba57>\u001b[0m in \u001b[0;36m<module>\u001b[1;34m()\u001b[0m\n\u001b[0;32m     32\u001b[0m         \u001b[0mR_dict\u001b[0m\u001b[1;33m[\u001b[0m\u001b[1;34m'lasso'\u001b[0m\u001b[1;33m]\u001b[0m\u001b[1;33m.\u001b[0m\u001b[0mappend\u001b[0m\u001b[1;33m(\u001b[0m\u001b[0mlasso_res\u001b[0m\u001b[1;33m)\u001b[0m\u001b[1;33m\u001b[0m\u001b[0m\n\u001b[0;32m     33\u001b[0m         \u001b[0mR_dict\u001b[0m\u001b[1;33m[\u001b[0m\u001b[1;34m'OLS'\u001b[0m\u001b[1;33m]\u001b[0m\u001b[1;33m.\u001b[0m\u001b[0mappend\u001b[0m\u001b[1;33m(\u001b[0m\u001b[0mOLS_res\u001b[0m\u001b[1;33m)\u001b[0m\u001b[1;33m\u001b[0m\u001b[0m\n\u001b[1;32m---> 34\u001b[1;33m         \u001b[0mR_dict\u001b[0m\u001b[1;33m[\u001b[0m\u001b[1;34m'gini_lasso'\u001b[0m\u001b[1;33m]\u001b[0m\u001b[1;33m.\u001b[0m\u001b[0mappend\u001b[0m\u001b[1;33m(\u001b[0m\u001b[0mclf_l\u001b[0m\u001b[1;33m.\u001b[0m\u001b[0mcoef_\u001b[0m\u001b[1;33m[\u001b[0m\u001b[1;36m0\u001b[0m\u001b[1;33m]\u001b[0m\u001b[1;33m)\u001b[0m\u001b[1;33m\u001b[0m\u001b[0m\n\u001b[0m\u001b[0;32m     35\u001b[0m         \u001b[1;31m#print '\\n'\u001b[0m\u001b[1;33m\u001b[0m\u001b[1;33m\u001b[0m\u001b[0m\n\u001b[0;32m     36\u001b[0m \u001b[1;33m\u001b[0m\u001b[0m\n",
      "\u001b[1;31mAttributeError\u001b[0m: 'RandomizedSearchCV' object has no attribute 'coef_'"
     ]
    }
   ],
   "source": [
    "n_folds = 5\n",
    "\n",
    "# Finding the best alpha\n",
    "parameters = {'alpha':np.logspace(-5, 0, 50)}\n",
    "lm = linear_model.Lasso()\n",
    "clf_lasso = grid_search.RandomizedSearchCV(lm, parameters, cv=n_folds, n_iter=20)\n",
    "clf_lasso.fit(X, Y)\n",
    "best_alpha = clf_lasso.best_params_ \n",
    "\n",
    "clf = linear_model.LinearRegression()\n",
    "clf.fit(X, Y)\n",
    "\n",
    "R_dict = {'lasso': [], 'OLS': [], 'gini_lasso': []}\n",
    "for k in range(20):\n",
    "    kf = cross_validation.KFold(len(X), n_folds=n_folds, shuffle=True)\n",
    "    for i, (train_index, test_index) in enumerate(kf):\n",
    "        #print(\"TRAIN:\", train_index, \"TEST:\", test_index)\n",
    "        X_train, X_test = X.values[train_index], X.values[test_index]\n",
    "        Y_train, Y_test = Y.values[train_index], Y.values[test_index]\n",
    "        clf = linear_model.Lasso(alpha=10**-12)\n",
    "        clf.fit(X_train, Y_train)\n",
    "        parameters = {'alpha':np.logspace(-5, 0, 50)}\n",
    "        lm = linear_model.Lasso()\n",
    "        clf_l = grid_search.RandomizedSearchCV(lm, parameters, cv=n_folds, n_iter=20)\n",
    "        clf_l.fit(X, Y)\n",
    "        best_alpha = clf_l.best_params_\n",
    "        #print i, \"th fold\"\n",
    "        OLS_res = (Y_test.var() - (Y_test - clf.predict(X_test)).var()) / Y_test.var()\n",
    "        #print \"R^2 OLS\", OLS_res\n",
    "        lasso_res = (Y_test.var() - (Y_test - clf_l.predict(X_test)).var()) / Y_test.var()\n",
    "        #print \"R^2 Lasso\", lasso_res\n",
    "        R_dict['lasso'].append(lasso_res)\n",
    "        R_dict['OLS'].append(OLS_res)\n",
    "        R_dict['gini_lasso'].append(clf_l.coef_[0])\n",
    "        #print '\\n'\n",
    "\n",
    "print best_alpha\n",
    "x = range(len(data))\n",
    "plt.figure(figsize=(15,7))\n",
    "plt.plot(train_index, Y_train, 'bo', label=\"train\")\n",
    "plt.plot(test_index, Y_test, 'ko', label=\"test\")\n",
    "plt.plot(x, clf.predict(X), 'r--.', label=\"'OLS'\")\n",
    "plt.plot(x, clf_l.predict(X), 'g--.', label=\"'Lasso'\")\n",
    "plt.legend()\n",
    "plt.ylabel(\"Growth\")\n",
    "plt.xlabel(\"Country/period\")\n",
    "print np.mean(R_dict['lasso']), np.std(R_dict['lasso'])\n",
    "print np.mean(R_dict['OLS']), np.std(R_dict['OLS'])\n",
    "print np.mean(R_dict['gini_lasso']), np.std(R_dict['gini_lasso'])\n",
    "print pd.DataFrame(index=X.columns, data=clf_l.coef_)"
   ]
  },
  {
   "cell_type": "code",
   "execution_count": null,
   "metadata": {
    "collapsed": true
   },
   "outputs": [],
   "source": []
  },
  {
   "cell_type": "code",
   "execution_count": null,
   "metadata": {
    "collapsed": true
   },
   "outputs": [],
   "source": []
  }
 ],
 "metadata": {
  "kernelspec": {
   "display_name": "Python 2",
   "language": "python",
   "name": "python2"
  },
  "language_info": {
   "codemirror_mode": {
    "name": "ipython",
    "version": 2
   },
   "file_extension": ".py",
   "mimetype": "text/x-python",
   "name": "python",
   "nbconvert_exporter": "python",
   "pygments_lexer": "ipython2",
   "version": "2.7.6"
  }
 },
 "nbformat": 4,
 "nbformat_minor": 0
}
