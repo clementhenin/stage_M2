{
 "cells": [
  {
   "cell_type": "code",
   "execution_count": 217,
   "metadata": {
    "collapsed": true
   },
   "outputs": [],
   "source": [
    "%matplotlib inline"
   ]
  },
  {
   "cell_type": "code",
   "execution_count": 218,
   "metadata": {
    "collapsed": true
   },
   "outputs": [],
   "source": [
    "import pandas as pd\n",
    "import numpy as np"
   ]
  },
  {
   "cell_type": "markdown",
   "metadata": {},
   "source": [
    "# Importing the data from sources"
   ]
  },
  {
   "cell_type": "markdown",
   "metadata": {},
   "source": [
    "## Inequality measures Deininger and Squire"
   ]
  },
  {
   "cell_type": "markdown",
   "metadata": {},
   "source": [
    "Not sure whether the good quality criteria in Forbes deals with the variable Quality or Q. In order to be confident of our data, we impose the two conditions. \n",
    "This leads us to 679 points which is very close to the 682 points of the paper. "
   ]
  },
  {
   "cell_type": "markdown",
   "metadata": {},
   "source": [
    "We also add 6.6 we the data is based on expenditure and not on income (on the same cell to be sure that it is not done twice. "
   ]
  },
  {
   "cell_type": "code",
   "execution_count": 219,
   "metadata": {
    "collapsed": false,
    "scrolled": true
   },
   "outputs": [
    {
     "name": "stdout",
     "output_type": "stream",
     "text": [
      "<class 'pandas.core.frame.DataFrame'>\n",
      "Int64Index: 679 entries, 0 to 2631\n",
      "Data columns (total 3 columns):\n",
      "Code    679 non-null object\n",
      "Year    679 non-null int64\n",
      "Gini    679 non-null object\n",
      "dtypes: int64(1), object(2)\n",
      "memory usage: 21.2+ KB\n"
     ]
    }
   ],
   "source": [
    "DS = pd.read_excel(\"Deininger_and Squire.XLS\", usecols=[\"Code\", \"Quality\", \"Year\", \"Gini\", \"Q\", 'Inc'])\n",
    "DS = DS.query(\"Q == 'good' and Quality == 'accept'\")\n",
    "DS.drop_duplicates([\"Code\", \"Year\"], inplace=True)\n",
    "DS['Gini'].astype(float, inplace=True)\n",
    "\n",
    "DS.loc[DS['Inc']=='E', 'Gini'] += 6.6\n",
    "\n",
    "DS = DS[[\"Code\", \"Year\", \"Gini\"]]\n",
    "DS.info()"
   ]
  },
  {
   "cell_type": "markdown",
   "metadata": {},
   "source": [
    "## Educational data : Barro-Lee"
   ]
  },
  {
   "cell_type": "markdown",
   "metadata": {},
   "source": [
    "We take the data directly from the BarroLee website. Cf list of name variable name."
   ]
  },
  {
   "cell_type": "code",
   "execution_count": 220,
   "metadata": {
    "collapsed": false
   },
   "outputs": [],
   "source": [
    "male_educ = pd.read_csv(\"male_attainment_25_BarroLee.csv\", usecols=[\"year\", \"WBcode\", \"yr_sch_sec\"])\n",
    "female_educ = pd.read_csv(\"female_attainment_25_BarroLee.csv\", usecols=[\"year\", \"WBcode\", \"yr_sch_sec\"])"
   ]
  },
  {
   "cell_type": "code",
   "execution_count": 221,
   "metadata": {
    "collapsed": false
   },
   "outputs": [
    {
     "name": "stdout",
     "output_type": "stream",
     "text": [
      "<class 'pandas.core.frame.DataFrame'>\n",
      "Int64Index: 1898 entries, 0 to 1897\n",
      "Data columns (total 3 columns):\n",
      "year          1898 non-null int64\n",
      "yr_sch_sec    1898 non-null float64\n",
      "WBcode        1898 non-null object\n",
      "dtypes: float64(1), int64(1), object(1)\n",
      "memory usage: 59.3+ KB\n",
      "None\n",
      "<class 'pandas.core.frame.DataFrame'>\n",
      "Int64Index: 1898 entries, 0 to 1897\n",
      "Data columns (total 3 columns):\n",
      "year          1898 non-null int64\n",
      "yr_sch_sec    1898 non-null float64\n",
      "WBcode        1898 non-null object\n",
      "dtypes: float64(1), int64(1), object(1)\n",
      "memory usage: 59.3+ KB\n",
      "None\n"
     ]
    }
   ],
   "source": [
    "print male_educ.info()\n",
    "print female_educ.info()"
   ]
  },
  {
   "cell_type": "markdown",
   "metadata": {},
   "source": [
    "## Income"
   ]
  },
  {
   "cell_type": "markdown",
   "metadata": {},
   "source": [
    "We downloaded the data from data.worldbank. The name of the variable has changed from GNP to GNI we should investigate to decide whether or not the differences are big. \n",
    "We secretly hope that the data before 1995 hasn't been changed and consequently that the new name of the variable affects nothing for our study. "
   ]
  },
  {
   "cell_type": "code",
   "execution_count": 222,
   "metadata": {
    "collapsed": false
   },
   "outputs": [
    {
     "name": "stdout",
     "output_type": "stream",
     "text": [
      "<class 'pandas.core.frame.DataFrame'>\n",
      "Int64Index: 9131 entries, 0 to 9130\n",
      "Data columns (total 3 columns):\n",
      "code      9131 non-null object\n",
      "year      9131 non-null object\n",
      "GNI_PC    9131 non-null float64\n",
      "dtypes: float64(1), object(2)\n",
      "memory usage: 285.3+ KB\n",
      "None\n"
     ]
    }
   ],
   "source": [
    "inc = pd.read_csv(\"GNI_per_capita_WB.csv\", skiprows=4)\n",
    "del inc[\"Country Name\"], inc['Indicator Code'], inc['Indicator Name']\n",
    "inc.set_index(\"Country Code\", inplace=True)\n",
    "inc = inc.stack().reset_index()\n",
    "inc.columns = [\"code\", \"year\", \"GNI_PC\"]\n",
    "print inc.info()"
   ]
  },
  {
   "cell_type": "markdown",
   "metadata": {},
   "source": [
    "## Price Level of Investment"
   ]
  },
  {
   "cell_type": "markdown",
   "metadata": {},
   "source": [
    "Extracted from the Penn World Table 5.6 (as in Forbes). The name of the variable is PI (cf. documentation column number [15]). "
   ]
  },
  {
   "cell_type": "markdown",
   "metadata": {},
   "source": [
    "We now convert the Country name to the corresponding code using our good old dictionary. "
   ]
  },
  {
   "cell_type": "code",
   "execution_count": 223,
   "metadata": {
    "collapsed": false
   },
   "outputs": [],
   "source": [
    "PPPI = pd.read_excel(\"pwt56_forweb.xls\", usecols=[\"Country\", \"Year\", \"PI\"]).dropna(subset=[\"PI\"])\n",
    "country_dict = pd.read_csv(\"../data_source/country_code_list.csv\")\n",
    "\n",
    "country_dict.loc[:, 'country'] = country_dict['country'].apply(lambda x: x.upper())\n",
    "country_dict.set_index('country', inplace=True)\n",
    "\n",
    "PPPI.replace(\"CAPE VERDE IS.\", \"CABO VERDE\", inplace=True)\n",
    "PPPI.replace(\"CENTRAL AFR.R.\", \"CENTRAL AFRICAN REPUBLIC\", inplace=True)\n",
    "PPPI.replace(\"GUINEA-BISS\", \"GUINEA-BISSAU\", inplace=True)\n",
    "\n",
    "PPPI = PPPI.query(\"Country != 'REUNION'\")\n",
    "\n",
    "PPPI = PPPI.query(\"Country != 'ZAIRE'\")\n",
    "\n",
    "PPPI.replace(\"DOMINICAN REP.\", \"DOMINICAN REPUBLIC\", inplace=True)\n",
    "PPPI.replace(\"ST.KITTS&NEVIS\", \"SAINT KITTS AND NEVIS\", inplace=True)\n",
    "PPPI.replace(\"ST.LUCIA\", \"SAINT LUCIA\", inplace=True)\n",
    "PPPI.replace(\"TRINIDAD&TOBAGO\", \"TRINIDAD AND TOBAGO\", inplace=True)\n",
    "PPPI.replace(\"U.S.A.\", \"UNITED STATES OF AMERICA\", inplace=True)\n",
    "PPPI.replace(\"KOREA, REP.\", \"SOUTH KOREA\", inplace=True)\n",
    "PPPI.replace(\"SYRIA\", \"SYRIAN ARAB REPUBLIC\", inplace=True)\n",
    "PPPI.replace(\"UNITED ARAB E.\", \"UNITED ARAB EMIRATES\", inplace=True)\n",
    "PPPI.replace(\"YEMEN\", \"REPUBLIC OF YEMEN\", inplace=True)\n",
    "\n",
    "PPPI = PPPI.query(\"Country != 'GERMANY, EAST'\")\n",
    "\n",
    "PPPI.replace(\"GERMANY, WEST\", \"GERMANY\", inplace=True)\n",
    "PPPI.replace(\"U.K.\", \"UNITED KINGDOM\", inplace=True)\n",
    "PPPI.replace(\"U.S.S.R.\", \"RUSSIAN FEDERATION\", inplace=True)\n",
    "PPPI.replace(\"PAPUA N.GUINEA\", \"PAPUA NEW GUINEA\", inplace=True)\n",
    "PPPI.replace(\"SOLOMON IS.\", \"SOLOMON ISLANDS\", inplace=True)\n",
    "PPPI.replace(\"ST.VINCENT&GRE\", \"SAINT VINCENT AND THE GRENADINES\", inplace=True)\n",
    "PPPI.replace(\"WESTERN SAMOA\", \"SAMOA\", inplace=True)\n",
    "\n",
    "\n",
    "PPPI['code'] = PPPI['Country'].apply(lambda x: country_dict.loc[x])\n",
    "PPPI = PPPI[['code', 'Year', 'PI']]"
   ]
  },
  {
   "cell_type": "code",
   "execution_count": 224,
   "metadata": {
    "collapsed": false
   },
   "outputs": [
    {
     "name": "stdout",
     "output_type": "stream",
     "text": [
      "<class 'pandas.core.frame.DataFrame'>\n",
      "Int64Index: 4950 entries, 10 to 6533\n",
      "Data columns (total 3 columns):\n",
      "code    4950 non-null object\n",
      "Year    4950 non-null int64\n",
      "PI      4950 non-null float64\n",
      "dtypes: float64(1), int64(1), object(1)\n",
      "memory usage: 154.7+ KB\n"
     ]
    }
   ],
   "source": [
    "PPPI.info()"
   ]
  },
  {
   "cell_type": "markdown",
   "metadata": {},
   "source": [
    "# Gathering the data in one frame"
   ]
  },
  {
   "cell_type": "markdown",
   "metadata": {},
   "source": [
    "The first step is to remove rename the columns in preparation of the merging of the databases. \n",
    "We also remove all the duplicates in order to avoid the problems during the merging. "
   ]
  },
  {
   "cell_type": "markdown",
   "metadata": {},
   "source": [
    "### Drop duplicates and normalize the data from different sources"
   ]
  },
  {
   "cell_type": "code",
   "execution_count": 225,
   "metadata": {
    "collapsed": false
   },
   "outputs": [
    {
     "name": "stdout",
     "output_type": "stream",
     "text": [
      "Income duplicates : 0\n",
      "Inequality duplicates : 0\n",
      "PPPI duplicates : 0\n",
      "Male educ duplicates : 0\n",
      "Female Educ duplicates : 0\n"
     ]
    }
   ],
   "source": [
    "# rename the columns (in order to merge)\n",
    "DS.columns = [\"code\", \"year\", \"gini\"]\n",
    "PPPI.columns = [\"code\", \"year\", \"PPPI\"]\n",
    "male_educ.columns = [\"year\", \"sch_male\", \"code\"]\n",
    "female_educ.columns = [\"year\", \"sch_female\", \"code\"]\n",
    "\n",
    "# drop duplicates in order to avoid problems during the merging\n",
    "print \"Income duplicates :\", inc.duplicated(subset=['code', 'year']).sum()\n",
    "print \"Inequality duplicates :\", DS.duplicated(subset=['code', 'year']).sum()\n",
    "print \"PPPI duplicates :\", PPPI.duplicated(subset=['code', 'year']).sum()\n",
    "print \"Male educ duplicates :\", male_educ.duplicated(subset=['code', 'year']).sum()\n",
    "print \"Female Educ duplicates :\", female_educ.duplicated(subset=['code', 'year']).sum()\n",
    "\n",
    "# normalize the data types\n",
    "DS.loc[:, 'year'] = DS['year'].astype(int)\n",
    "DS.loc[:, 'code'] = DS['code'].astype(str)\n",
    "DS.loc[:, 'gini'] = DS['gini'].astype(float)\n",
    "\n",
    "PPPI.loc[:, 'year'] = PPPI['year'].astype(int)\n",
    "PPPI.loc[:, 'code'] = PPPI['code'].astype(str)\n",
    "PPPI.loc[:, 'PPPI'] = PPPI['PPPI'].astype(float)\n",
    "\n",
    "male_educ.loc[:, 'year'] = male_educ['year'].astype(int)\n",
    "male_educ.loc[:, 'code'] = male_educ['code'].astype(str)\n",
    "male_educ.loc[:, 'sch_male'] = male_educ['sch_male'].astype(float)\n",
    "\n",
    "female_educ.loc[:, 'year'] = female_educ['year'].astype(int)\n",
    "female_educ.loc[:, 'code'] = female_educ['code'].astype(str)\n",
    "female_educ.loc[:, 'sch_female'] = female_educ['sch_female'].astype(float)\n",
    "\n",
    "inc.loc[:, 'year'] = inc['year'].astype(int)\n",
    "inc.loc[:, 'code'] = inc['code'].astype(str)\n",
    "inc.loc[:, 'GNI_PC'] = inc['GNI_PC'].astype(float)"
   ]
  },
  {
   "cell_type": "markdown",
   "metadata": {},
   "source": [
    "We now have to make sure of the concordance country codes between bases..."
   ]
  },
  {
   "cell_type": "markdown",
   "metadata": {},
   "source": [
    "We found some problematic codes in the income database : codes that do not appear in our good old country code dictionary. We see that the corresponding countries are not countries or negligeable countries so we can just drop them from the database. "
   ]
  },
  {
   "cell_type": "code",
   "execution_count": 226,
   "metadata": {
    "collapsed": false
   },
   "outputs": [
    {
     "name": "stdout",
     "output_type": "stream",
     "text": [
      "                                       Country Name Country Code\n",
      "5                                        Arab World          ARB\n",
      "34                   Central Europe and the Baltics          CEB\n",
      "36                                  Channel Islands          CHI\n",
      "46                           Caribbean small states          CSS\n",
      "58            East Asia & Pacific (developing only)          EAP\n",
      "59          East Asia & Pacific (all income levels)          EAS\n",
      "60          Europe & Central Asia (developing only)          ECA\n",
      "61        Europe & Central Asia (all income levels)          ECS\n",
      "64                                        Euro area          EMU\n",
      "69                                   European Union          EUU\n",
      "70         Fragile and conflict affected situations          FCS\n",
      "90                                      High income          HIC\n",
      "93           Heavily indebted poor countries (HIPC)          HPC\n",
      "119     Latin America & Caribbean (developing only)          LAC\n",
      "125   Latin America & Caribbean (all income levels)          LCN\n",
      "126    Least developed countries: UN classification          LDC\n",
      "127                                      Low income          LIC\n",
      "130                             Lower middle income          LMC\n",
      "131                             Low & middle income          LMY\n",
      "143  Middle East & North Africa (all income levels)          MEA\n",
      "146                                   Middle income          MIC\n",
      "151    Middle East & North Africa (developing only)          MNA\n",
      "160                                   North America          NAC\n",
      "167                            High income: nonOECD          NOC\n",
      "171                               High income: OECD          OEC\n",
      "172                                    OECD members          OED\n",
      "174                              Other small states          OSS\n",
      "186                     Pacific island small states          PSS\n",
      "192                                      South Asia          SAS\n",
      "203            Sub-Saharan Africa (developing only)          SSA\n",
      "205          Sub-Saharan Africa (all income levels)          SSF\n",
      "206                                    Small states          SST\n",
      "231                             Upper middle income          UMC\n",
      "241                                           World          WLD\n"
     ]
    }
   ],
   "source": [
    "problematic_codes = list(set(inc.query(\"code not in \" + str(country_dict['code'].values.tolist()))['code']))\n",
    "country_code = pd.read_csv(\"GNI_per_capita_WB.csv\", skiprows=4, usecols=['Country Name', 'Country Code'])\n",
    "print country_code[country_code['Country Code'].apply(lambda x: x in problematic_codes)]\n",
    "inc = inc.query(\"code in \" + str(country_dict['code'].values.tolist()))"
   ]
  },
  {
   "cell_type": "markdown",
   "metadata": {},
   "source": [
    "In Dieninger and Squire some codes are not used anymore in the new nomenclature so we choose to change them to the new nomenclature. "
   ]
  },
  {
   "cell_type": "code",
   "execution_count": 227,
   "metadata": {
    "collapsed": false
   },
   "outputs": [
    {
     "name": "stdout",
     "output_type": "stream",
     "text": [
      "           Country Code\n",
      "162        Belarus  BRS\n",
      "580      Czech Rep  CSR\n",
      "1407   Kyrgyz Rep.  KYR\n",
      "1409        Latvia  LAT\n",
      "1415     Lithuania  LIT\n",
      "1541       Moldova  MLD\n",
      "1914       Romania  ROM\n",
      "1956        Slovak  SLO\n",
      "1957   Slovak Rep.  SLO\n",
      "1966      Slovenia  SVA\n",
      "1981  Soviet Union  SUN\n",
      "2151        Taiwan  OAN\n"
     ]
    }
   ],
   "source": [
    "problematic_codes = list(set(DS.query(\"code not in \" + str(country_dict['code'].values.tolist()))['code']))\n",
    "country_code = pd.read_excel(\"Deininger_and Squire.XLS\", usecols=[\"Code\", \"Country\"])\n",
    "print country_code[country_code['Code'].apply(lambda x: x in problematic_codes)].drop_duplicates()\n",
    "\n",
    "DS.replace(\"BRS\", \"BLR\", inplace=True)\n",
    "DS.replace(\"CSR\", \"CZE\", inplace=True)\n",
    "DS.replace(\"KYR\", \"KGZ\", inplace=True)\n",
    "DS.replace(\"LAT\", \"LVA\", inplace=True)\n",
    "DS.replace(\"LIT\", \"LTU\", inplace=True)\n",
    "DS.replace(\"MLD\", \"MDA\", inplace=True)\n",
    "DS.replace(\"ROM\", \"ROU\", inplace=True)\n",
    "DS.replace(\"SLO\", \"SVK\", inplace=True)\n",
    "DS.replace(\"SVA\", \"SVN\", inplace=True)\n",
    "DS.replace(\"SUN\", \"RUS\", inplace=True)\n",
    "DS.replace(\"OAN\", \"TWN\", inplace=True)"
   ]
  },
  {
   "cell_type": "markdown",
   "metadata": {},
   "source": [
    "In the educationnal data from Barro and Lee some codes are not used anymore in the new nomenclature so we choose to change them to the new nomenclature. "
   ]
  },
  {
   "cell_type": "code",
   "execution_count": 228,
   "metadata": {
    "collapsed": false
   },
   "outputs": [
    {
     "name": "stdout",
     "output_type": "stream",
     "text": [
      "                  country WBcode\n",
      "1833  Republic of Moldova    ROM\n",
      "1846               Serbia    SER\n"
     ]
    }
   ],
   "source": [
    "problematic_codes = list(set(male_educ.query(\"code not in \" + str(country_dict['code'].values.tolist()))['code']))\n",
    "country_code = pd.read_csv(\"male_attainment_25_BarroLee.csv\", usecols=[\"WBcode\", \"country\"])\n",
    "print country_code[country_code['WBcode'].apply(lambda x: x in problematic_codes)].drop_duplicates()\n",
    "\n",
    "male_educ.replace(\"ROM\", \"MDA\", inplace=True)\n",
    "male_educ.replace(\"SER\", \"SRB\", inplace=True)"
   ]
  },
  {
   "cell_type": "code",
   "execution_count": 229,
   "metadata": {
    "collapsed": false
   },
   "outputs": [
    {
     "name": "stdout",
     "output_type": "stream",
     "text": [
      "                  country WBcode\n",
      "1833  Republic of Moldova    ROM\n",
      "1846               Serbia    SER\n"
     ]
    }
   ],
   "source": [
    "problematic_codes = list(set(female_educ.query(\"code not in \" + str(country_dict['code'].values.tolist()))['code']))\n",
    "country_code = pd.read_csv(\"female_attainment_25_BarroLee.csv\", usecols=[\"WBcode\", \"country\"])\n",
    "print country_code[country_code['WBcode'].apply(lambda x: x in problematic_codes)].drop_duplicates()\n",
    "\n",
    "male_educ.replace(\"ROM\", \"MDA\", inplace=True)\n",
    "male_educ.replace(\"SER\", \"SRB\", inplace=True)"
   ]
  },
  {
   "cell_type": "markdown",
   "metadata": {},
   "source": [
    "### Merging the data"
   ]
  },
  {
   "cell_type": "code",
   "execution_count": 249,
   "metadata": {
    "collapsed": false,
    "scrolled": true
   },
   "outputs": [],
   "source": [
    "data_frame = pd.merge(DS, PPPI, on=['code', 'year'],how='outer')\n",
    "data_frame = pd.merge(data_frame, male_educ, on=['code', 'year'], how='outer')\n",
    "data_frame = pd.merge(data_frame, female_educ, on=['code', 'year'], how='outer')\n",
    "data_frame = pd.merge(data_frame, inc, on=['code', 'year'], how='outer')"
   ]
  },
  {
   "cell_type": "markdown",
   "metadata": {},
   "source": [
    "### Taking the log of the GDP"
   ]
  },
  {
   "cell_type": "code",
   "execution_count": 250,
   "metadata": {
    "collapsed": false
   },
   "outputs": [],
   "source": [
    "data_frame[\"log(GNI_PC)\"] = data_frame['GNI_PC'].apply(np.log)\n",
    "del data_frame['GNI_PC']"
   ]
  },
  {
   "cell_type": "markdown",
   "metadata": {},
   "source": [
    "### Resampling the data"
   ]
  },
  {
   "cell_type": "markdown",
   "metadata": {},
   "source": [
    "Complicated task because it is done in a complex way in the paper. This particular point could be critized btw. \n",
    "One has to read the paper carefully to obtain information on how the resampling is done (note 8). The author choose not to use the mean of all values in the period but only the first values which is not the good way to do in my opinion but here we just redo the calculations. Because the data on inequality is sparse, she allows the values to be not only the first one but the closest from the first one in the considered period. "
   ]
  },
  {
   "cell_type": "code",
   "execution_count": 251,
   "metadata": {
    "collapsed": true
   },
   "outputs": [],
   "source": [
    "data_frame.reset_index(inplace=True)\n",
    "period = float(5)\n",
    "tuples = zip(data_frame['code'],\n",
    "             (((data_frame['year'].values - 1) // period) * period))\n",
    "df_copy = data_frame.copy()\n",
    "df_copy.index = pd.MultiIndex.from_tuples(tuples)\n",
    "df_copy = df_copy.groupby(level=[0, 1]).last().dropna(how='all')\n",
    "df_copy.index.names = ['code', 'year']"
   ]
  },
  {
   "cell_type": "code",
   "execution_count": 252,
   "metadata": {
    "collapsed": false
   },
   "outputs": [],
   "source": [
    "data_frame = df_copy\n",
    "del df_copy\n",
    "data_frame = data_frame[['gini', 'PPPI', 'sch_male', 'sch_female', 'log(GNI_PC)']]"
   ]
  },
  {
   "cell_type": "code",
   "execution_count": 253,
   "metadata": {
    "collapsed": false
   },
   "outputs": [
    {
     "data": {
      "text/html": [
       "<div>\n",
       "<table border=\"1\" class=\"dataframe\">\n",
       "  <thead>\n",
       "    <tr style=\"text-align: right;\">\n",
       "      <th></th>\n",
       "      <th>gini</th>\n",
       "      <th>PPPI</th>\n",
       "      <th>sch_male</th>\n",
       "      <th>sch_female</th>\n",
       "      <th>log(GNI_PC)</th>\n",
       "    </tr>\n",
       "    <tr>\n",
       "      <th>year</th>\n",
       "      <th></th>\n",
       "      <th></th>\n",
       "      <th></th>\n",
       "      <th></th>\n",
       "      <th></th>\n",
       "    </tr>\n",
       "  </thead>\n",
       "  <tbody>\n",
       "    <tr>\n",
       "      <th>1945</th>\n",
       "      <td>NaN</td>\n",
       "      <td>55.30</td>\n",
       "      <td>0.69</td>\n",
       "      <td>0.47</td>\n",
       "      <td>NaN</td>\n",
       "    </tr>\n",
       "    <tr>\n",
       "      <th>1950</th>\n",
       "      <td>NaN</td>\n",
       "      <td>57.31</td>\n",
       "      <td>0.79</td>\n",
       "      <td>0.50</td>\n",
       "      <td>NaN</td>\n",
       "    </tr>\n",
       "    <tr>\n",
       "      <th>1955</th>\n",
       "      <td>NaN</td>\n",
       "      <td>57.94</td>\n",
       "      <td>0.83</td>\n",
       "      <td>0.52</td>\n",
       "      <td>NaN</td>\n",
       "    </tr>\n",
       "    <tr>\n",
       "      <th>1960</th>\n",
       "      <td>28.1300</td>\n",
       "      <td>73.64</td>\n",
       "      <td>0.88</td>\n",
       "      <td>0.57</td>\n",
       "      <td>NaN</td>\n",
       "    </tr>\n",
       "    <tr>\n",
       "      <th>1965</th>\n",
       "      <td>33.5700</td>\n",
       "      <td>75.79</td>\n",
       "      <td>0.92</td>\n",
       "      <td>0.55</td>\n",
       "      <td>NaN</td>\n",
       "    </tr>\n",
       "    <tr>\n",
       "      <th>1970</th>\n",
       "      <td>30.6163</td>\n",
       "      <td>98.88</td>\n",
       "      <td>1.04</td>\n",
       "      <td>0.65</td>\n",
       "      <td>8.8143</td>\n",
       "    </tr>\n",
       "    <tr>\n",
       "      <th>1975</th>\n",
       "      <td>32.0648</td>\n",
       "      <td>120.43</td>\n",
       "      <td>1.51</td>\n",
       "      <td>0.88</td>\n",
       "      <td>9.4750</td>\n",
       "    </tr>\n",
       "    <tr>\n",
       "      <th>1980</th>\n",
       "      <td>32.1950</td>\n",
       "      <td>67.51</td>\n",
       "      <td>2.03</td>\n",
       "      <td>1.12</td>\n",
       "      <td>9.1952</td>\n",
       "    </tr>\n",
       "    <tr>\n",
       "      <th>1985</th>\n",
       "      <td>NaN</td>\n",
       "      <td>110.23</td>\n",
       "      <td>3.28</td>\n",
       "      <td>2.26</td>\n",
       "      <td>9.9683</td>\n",
       "    </tr>\n",
       "    <tr>\n",
       "      <th>1990</th>\n",
       "      <td>NaN</td>\n",
       "      <td>117.63</td>\n",
       "      <td>4.47</td>\n",
       "      <td>3.19</td>\n",
       "      <td>10.2230</td>\n",
       "    </tr>\n",
       "    <tr>\n",
       "      <th>1995</th>\n",
       "      <td>NaN</td>\n",
       "      <td>NaN</td>\n",
       "      <td>5.63</td>\n",
       "      <td>3.99</td>\n",
       "      <td>10.1991</td>\n",
       "    </tr>\n",
       "    <tr>\n",
       "      <th>2000</th>\n",
       "      <td>NaN</td>\n",
       "      <td>NaN</td>\n",
       "      <td>6.59</td>\n",
       "      <td>5.84</td>\n",
       "      <td>10.3650</td>\n",
       "    </tr>\n",
       "    <tr>\n",
       "      <th>2005</th>\n",
       "      <td>NaN</td>\n",
       "      <td>NaN</td>\n",
       "      <td>7.25</td>\n",
       "      <td>6.57</td>\n",
       "      <td>10.6876</td>\n",
       "    </tr>\n",
       "    <tr>\n",
       "      <th>2010</th>\n",
       "      <td>NaN</td>\n",
       "      <td>NaN</td>\n",
       "      <td>NaN</td>\n",
       "      <td>NaN</td>\n",
       "      <td>10.7714</td>\n",
       "    </tr>\n",
       "  </tbody>\n",
       "</table>\n",
       "</div>"
      ],
      "text/plain": [
       "         gini    PPPI  sch_male  sch_female  log(GNI_PC)\n",
       "year                                                    \n",
       "1945      NaN   55.30      0.69        0.47          NaN\n",
       "1950      NaN   57.31      0.79        0.50          NaN\n",
       "1955      NaN   57.94      0.83        0.52          NaN\n",
       "1960  28.1300   73.64      0.88        0.57          NaN\n",
       "1965  33.5700   75.79      0.92        0.55          NaN\n",
       "1970  30.6163   98.88      1.04        0.65       8.8143\n",
       "1975  32.0648  120.43      1.51        0.88       9.4750\n",
       "1980  32.1950   67.51      2.03        1.12       9.1952\n",
       "1985      NaN  110.23      3.28        2.26       9.9683\n",
       "1990      NaN  117.63      4.47        3.19      10.2230\n",
       "1995      NaN     NaN      5.63        3.99      10.1991\n",
       "2000      NaN     NaN      6.59        5.84      10.3650\n",
       "2005      NaN     NaN      7.25        6.57      10.6876\n",
       "2010      NaN     NaN       NaN         NaN      10.7714"
      ]
     },
     "execution_count": 253,
     "metadata": {},
     "output_type": "execute_result"
    }
   ],
   "source": [
    "data_frame.loc['DEU']"
   ]
  },
  {
   "cell_type": "markdown",
   "metadata": {},
   "source": [
    "### Computing the growth column"
   ]
  },
  {
   "cell_type": "code",
   "execution_count": 254,
   "metadata": {
    "collapsed": false
   },
   "outputs": [],
   "source": [
    "data_frame.reset_index(inplace=True)\n",
    "data_frame.sort_values(['code', 'year'], inplace=True)\n",
    "data_frame.set_index(['code'], inplace=True)"
   ]
  },
  {
   "cell_type": "code",
   "execution_count": 255,
   "metadata": {
    "collapsed": false
   },
   "outputs": [],
   "source": [
    "new_frame = pd.DataFrame()\n",
    "for country in set(data_frame.index.values):\n",
    "    sel = data_frame.loc[country]\n",
    "    if sel.shape != (6,):\n",
    "        sel['growth'] = (sel.shift(-1)['log(GNI_PC)'] - sel['log(GNI_PC)']) / (sel.shift(-1)['year'] - sel['year'])\n",
    "        new_frame = pd.concat([new_frame, sel])"
   ]
  },
  {
   "cell_type": "code",
   "execution_count": 258,
   "metadata": {
    "collapsed": false
   },
   "outputs": [
    {
     "data": {
      "text/html": [
       "<div>\n",
       "<table border=\"1\" class=\"dataframe\">\n",
       "  <thead>\n",
       "    <tr style=\"text-align: right;\">\n",
       "      <th></th>\n",
       "      <th>year</th>\n",
       "      <th>gini</th>\n",
       "      <th>PPPI</th>\n",
       "      <th>sch_male</th>\n",
       "      <th>sch_female</th>\n",
       "      <th>log(GNI_PC)</th>\n",
       "      <th>growth</th>\n",
       "    </tr>\n",
       "    <tr>\n",
       "      <th>code</th>\n",
       "      <th></th>\n",
       "      <th></th>\n",
       "      <th></th>\n",
       "      <th></th>\n",
       "      <th></th>\n",
       "      <th></th>\n",
       "      <th></th>\n",
       "    </tr>\n",
       "  </thead>\n",
       "  <tbody>\n",
       "    <tr>\n",
       "      <th>DEU</th>\n",
       "      <td>1945</td>\n",
       "      <td>NaN</td>\n",
       "      <td>55.30</td>\n",
       "      <td>0.69</td>\n",
       "      <td>0.47</td>\n",
       "      <td>NaN</td>\n",
       "      <td>NaN</td>\n",
       "    </tr>\n",
       "    <tr>\n",
       "      <th>DEU</th>\n",
       "      <td>1950</td>\n",
       "      <td>NaN</td>\n",
       "      <td>57.31</td>\n",
       "      <td>0.79</td>\n",
       "      <td>0.50</td>\n",
       "      <td>NaN</td>\n",
       "      <td>NaN</td>\n",
       "    </tr>\n",
       "    <tr>\n",
       "      <th>DEU</th>\n",
       "      <td>1955</td>\n",
       "      <td>NaN</td>\n",
       "      <td>57.94</td>\n",
       "      <td>0.83</td>\n",
       "      <td>0.52</td>\n",
       "      <td>NaN</td>\n",
       "      <td>NaN</td>\n",
       "    </tr>\n",
       "    <tr>\n",
       "      <th>DEU</th>\n",
       "      <td>1960</td>\n",
       "      <td>28.1300</td>\n",
       "      <td>73.64</td>\n",
       "      <td>0.88</td>\n",
       "      <td>0.57</td>\n",
       "      <td>NaN</td>\n",
       "      <td>NaN</td>\n",
       "    </tr>\n",
       "    <tr>\n",
       "      <th>DEU</th>\n",
       "      <td>1965</td>\n",
       "      <td>33.5700</td>\n",
       "      <td>75.79</td>\n",
       "      <td>0.92</td>\n",
       "      <td>0.55</td>\n",
       "      <td>NaN</td>\n",
       "      <td>NaN</td>\n",
       "    </tr>\n",
       "    <tr>\n",
       "      <th>DEU</th>\n",
       "      <td>1970</td>\n",
       "      <td>30.6163</td>\n",
       "      <td>98.88</td>\n",
       "      <td>1.04</td>\n",
       "      <td>0.65</td>\n",
       "      <td>8.8143</td>\n",
       "      <td>0.1321</td>\n",
       "    </tr>\n",
       "    <tr>\n",
       "      <th>DEU</th>\n",
       "      <td>1975</td>\n",
       "      <td>32.0648</td>\n",
       "      <td>120.43</td>\n",
       "      <td>1.51</td>\n",
       "      <td>0.88</td>\n",
       "      <td>9.4750</td>\n",
       "      <td>-0.0560</td>\n",
       "    </tr>\n",
       "    <tr>\n",
       "      <th>DEU</th>\n",
       "      <td>1980</td>\n",
       "      <td>32.1950</td>\n",
       "      <td>67.51</td>\n",
       "      <td>2.03</td>\n",
       "      <td>1.12</td>\n",
       "      <td>9.1952</td>\n",
       "      <td>0.1546</td>\n",
       "    </tr>\n",
       "    <tr>\n",
       "      <th>DEU</th>\n",
       "      <td>1985</td>\n",
       "      <td>NaN</td>\n",
       "      <td>110.23</td>\n",
       "      <td>3.28</td>\n",
       "      <td>2.26</td>\n",
       "      <td>9.9683</td>\n",
       "      <td>0.0509</td>\n",
       "    </tr>\n",
       "    <tr>\n",
       "      <th>DEU</th>\n",
       "      <td>1990</td>\n",
       "      <td>NaN</td>\n",
       "      <td>117.63</td>\n",
       "      <td>4.47</td>\n",
       "      <td>3.19</td>\n",
       "      <td>10.2230</td>\n",
       "      <td>-0.0048</td>\n",
       "    </tr>\n",
       "    <tr>\n",
       "      <th>DEU</th>\n",
       "      <td>1995</td>\n",
       "      <td>NaN</td>\n",
       "      <td>NaN</td>\n",
       "      <td>5.63</td>\n",
       "      <td>3.99</td>\n",
       "      <td>10.1991</td>\n",
       "      <td>0.0332</td>\n",
       "    </tr>\n",
       "    <tr>\n",
       "      <th>DEU</th>\n",
       "      <td>2000</td>\n",
       "      <td>NaN</td>\n",
       "      <td>NaN</td>\n",
       "      <td>6.59</td>\n",
       "      <td>5.84</td>\n",
       "      <td>10.3650</td>\n",
       "      <td>0.0645</td>\n",
       "    </tr>\n",
       "    <tr>\n",
       "      <th>DEU</th>\n",
       "      <td>2005</td>\n",
       "      <td>NaN</td>\n",
       "      <td>NaN</td>\n",
       "      <td>7.25</td>\n",
       "      <td>6.57</td>\n",
       "      <td>10.6876</td>\n",
       "      <td>0.0168</td>\n",
       "    </tr>\n",
       "    <tr>\n",
       "      <th>DEU</th>\n",
       "      <td>2010</td>\n",
       "      <td>NaN</td>\n",
       "      <td>NaN</td>\n",
       "      <td>NaN</td>\n",
       "      <td>NaN</td>\n",
       "      <td>10.7714</td>\n",
       "      <td>NaN</td>\n",
       "    </tr>\n",
       "  </tbody>\n",
       "</table>\n",
       "</div>"
      ],
      "text/plain": [
       "      year     gini    PPPI  sch_male  sch_female  log(GNI_PC)  growth\n",
       "code                                                                  \n",
       "DEU   1945      NaN   55.30      0.69        0.47          NaN     NaN\n",
       "DEU   1950      NaN   57.31      0.79        0.50          NaN     NaN\n",
       "DEU   1955      NaN   57.94      0.83        0.52          NaN     NaN\n",
       "DEU   1960  28.1300   73.64      0.88        0.57          NaN     NaN\n",
       "DEU   1965  33.5700   75.79      0.92        0.55          NaN     NaN\n",
       "DEU   1970  30.6163   98.88      1.04        0.65       8.8143  0.1321\n",
       "DEU   1975  32.0648  120.43      1.51        0.88       9.4750 -0.0560\n",
       "DEU   1980  32.1950   67.51      2.03        1.12       9.1952  0.1546\n",
       "DEU   1985      NaN  110.23      3.28        2.26       9.9683  0.0509\n",
       "DEU   1990      NaN  117.63      4.47        3.19      10.2230 -0.0048\n",
       "DEU   1995      NaN     NaN      5.63        3.99      10.1991  0.0332\n",
       "DEU   2000      NaN     NaN      6.59        5.84      10.3650  0.0645\n",
       "DEU   2005      NaN     NaN      7.25        6.57      10.6876  0.0168\n",
       "DEU   2010      NaN     NaN       NaN         NaN      10.7714     NaN"
      ]
     },
     "execution_count": 258,
     "metadata": {},
     "output_type": "execute_result"
    }
   ],
   "source": [
    "new_frame.loc['DEU']"
   ]
  },
  {
   "cell_type": "code",
   "execution_count": 259,
   "metadata": {
    "collapsed": false
   },
   "outputs": [
    {
     "name": "stdout",
     "output_type": "stream",
     "text": [
      "<class 'pandas.core.frame.DataFrame'>\n",
      "Index: 261 entries, DZA to UGA\n",
      "Data columns (total 7 columns):\n",
      "year           261 non-null float64\n",
      "gini           261 non-null float64\n",
      "PPPI           261 non-null float64\n",
      "sch_male       261 non-null float64\n",
      "sch_female     261 non-null float64\n",
      "log(GNI_PC)    261 non-null float64\n",
      "growth         261 non-null float64\n",
      "dtypes: float64(7)\n",
      "memory usage: 16.3+ KB\n"
     ]
    }
   ],
   "source": [
    "data_frame = new_frame.dropna(how='any')\n",
    "del new_frame\n",
    "data_frame.info()"
   ]
  },
  {
   "cell_type": "markdown",
   "metadata": {},
   "source": [
    "### Removing countries that doesn't have at least 2 consecutives observations"
   ]
  },
  {
   "cell_type": "code",
   "execution_count": 260,
   "metadata": {
    "collapsed": false
   },
   "outputs": [],
   "source": [
    "new_frame = pd.DataFrame()\n",
    "data_frame.reset_index(inplace=True)\n",
    "for country in set(data_frame['code']):\n",
    "    if len(data_frame.query(\"code == '\" + str(country) + \"'\")) > 1:\n",
    "        sel = data_frame.query(\"code == '\" + str(country) + \"'\")\n",
    "        sel = sel.loc[((sel.shift(-1).year - sel.year) == 5) | ((sel.year - sel.shift(1).year) == 5)]\n",
    "        new_frame = pd.concat([new_frame, sel])\n",
    "data_frame = new_frame\n",
    "del new_frame"
   ]
  },
  {
   "cell_type": "code",
   "execution_count": 269,
   "metadata": {
    "collapsed": false
   },
   "outputs": [],
   "source": [
    "data_frame.sort_values(['code', 'year']).to_csv(\"forbes_dataset.csv\", index=False)"
   ]
  },
  {
   "cell_type": "markdown",
   "metadata": {},
   "source": [
    "# Comparing with the data presented in the paper"
   ]
  },
  {
   "cell_type": "code",
   "execution_count": 271,
   "metadata": {
    "collapsed": false
   },
   "outputs": [
    {
     "name": "stdout",
     "output_type": "stream",
     "text": [
      "categorize           mean      std      min       max\n",
      "            year                                     \n",
      "PPPI        1960  80.2700  20.3394  53.2000  119.1600\n",
      "            1965  67.5840  19.8137  41.1500  107.0600\n",
      "            1970  85.5300  24.4405  36.4500  139.5800\n",
      "            1975  96.6863  30.2491  35.3300  187.2600\n",
      "            1980  66.8415  23.8130  31.8600  162.8500\n",
      "            1985  81.4251  37.9283  27.9100  218.1700\n",
      "            1990  74.6059  37.5481  15.4200  177.4000\n",
      "gini        1960  40.1430   7.5214  31.6100   55.5000\n",
      "            1965  41.5180   9.7666  25.1000   57.7000\n",
      "            1970  40.9775   9.4214  23.3000   61.9400\n",
      "            1975  39.1565   8.8489  24.9000   63.1800\n",
      "            1980  38.5449   8.0704  23.4200   61.7600\n",
      "            1985  40.8250   8.7590  24.5300   59.6000\n",
      "            1990  40.5100   8.9360  26.1118   56.9100\n",
      "growth      1960   0.0610   0.0268   0.0174    0.0939\n",
      "            1965   0.1488   0.0846   0.0129    0.3184\n",
      "            1970   0.1153   0.0532  -0.0227    0.1994\n",
      "            1975   0.0026   0.0458  -0.0911    0.1145\n",
      "            1980   0.0855   0.0678  -0.0924    0.2020\n",
      "            1985   0.0354   0.0596  -0.1201    0.1274\n",
      "            1990   0.0345   0.0413  -0.0869    0.1185\n",
      "log(GNI_PC) 1960   6.3481   1.4305   4.7005    8.2636\n",
      "            1965   6.5991   1.2866   4.7875    8.5867\n",
      "            1970   7.4603   1.1691   5.0752    9.0572\n",
      "            1975   8.0831   1.3513   5.3471    9.6582\n",
      "            1980   7.9731   1.3592   5.3936    9.7705\n",
      "            1985   8.0777   1.5549   5.7366   10.2314\n",
      "            1990   8.0738   1.7557   5.1930   10.3372\n",
      "sch_female  1960   1.0520   1.2100   0.0500    3.7900\n",
      "            1965   1.0965   1.0786   0.0600    4.3000\n",
      "            1970   1.1691   1.0389   0.0600    4.7600\n",
      "            1975   1.6132   1.2225   0.1100    5.1100\n",
      "            1980   1.8597   1.2240   0.2200    5.2600\n",
      "            1985   2.0298   1.2542   0.1700    5.3700\n",
      "            1990   2.3670   1.3657   0.2700    5.4400\n",
      "sch_male    1960   1.3390   1.0823   0.2700    3.7100\n",
      "            1965   1.4090   0.9843   0.3200    4.2600\n",
      "            1970   1.5344   1.0139   0.1000    4.7500\n",
      "            1975   2.0374   1.2048   0.3700    5.1400\n",
      "            1980   2.3105   1.1605   0.6700    4.8800\n",
      "            1985   2.4544   1.1927   0.5300    4.8000\n",
      "            1990   2.7548   1.2530   0.6900    5.4300\n"
     ]
    }
   ],
   "source": [
    "pd.set_option('precision', 4)\n",
    "nb_per = len(set(data_frame.year))\n",
    "resume = pd.DataFrame()\n",
    "resume = pd.concat([resume, data_frame.groupby('year').mean()])\n",
    "resume = pd.concat([resume, data_frame.groupby('year').std()])\n",
    "resume = pd.concat([resume, data_frame.groupby('year').min()])\n",
    "resume = pd.concat([resume, data_frame.groupby('year').max()])\n",
    "del resume['code']\n",
    "resume['categorize'] = (['mean'] * nb_per + ['std'] * nb_per + ['min'] * nb_per + ['max'] * nb_per) \n",
    "result = resume.reset_index().set_index(['categorize', 'year']).stack(level=0).unstack(level=0).swaplevel(0,1).sort_index()\n",
    "print result[['mean', 'std', 'min', 'max']]"
   ]
  },
  {
   "cell_type": "code",
   "execution_count": 272,
   "metadata": {
    "collapsed": false,
    "scrolled": false
   },
   "outputs": [
    {
     "name": "stdout",
     "output_type": "stream",
     "text": [
      "       gini                                                      \n",
      "year   1960     1965     1970     1975     1980     1985     1990\n",
      "code                                                             \n",
      "AUS     NaN      NaN      NaN  39.3300  37.5800  41.7200      NaN\n",
      "BEL     NaN      NaN      NaN  28.2500  26.2221      NaN      NaN\n",
      "BGD     NaN      NaN  36.0000  35.1700  36.0000  35.4500  34.8700\n",
      "BGR     NaN      NaN      NaN      NaN  23.4200  24.5300  34.4200\n",
      "BRA     NaN  57.6100  61.9400  57.7800  61.7600  59.6000      NaN\n",
      "CAN   31.61  32.3000  31.6200  31.0000  32.8100  27.5600  27.6500\n",
      "CHL     NaN  45.6400  46.0000  53.2100      NaN  57.8800  56.4900\n",
      "CHN     NaN      NaN      NaN  32.0000  31.4000  34.6000  37.8000\n",
      "CIV     NaN      NaN      NaN      NaN  47.8100  43.4900      NaN\n",
      "COL     NaN  52.0200  46.0000  54.5000      NaN  51.2000  51.3200\n",
      "CRI     NaN      NaN  44.4000  45.0000  47.0000  46.0700      NaN\n",
      "DEU     NaN      NaN  30.6163  32.0648  32.1950      NaN      NaN\n",
      "DNK     NaN      NaN      NaN  31.0000  30.9900  33.1451  33.2023\n",
      "DOM     NaN      NaN      NaN  45.0000  43.2900      NaN      NaN\n",
      "ESP     NaN      NaN  37.1100  33.3900  31.7900  32.5100      NaN\n",
      "FIN     NaN  31.8000  27.0000  30.8600  30.8400  26.1882  26.1118\n",
      "FRA   47.00  44.0000  43.0000  34.8504  34.9145      NaN      NaN\n",
      "GAB     NaN      NaN  59.2700  63.1800      NaN      NaN      NaN\n",
      "GBR     NaN  25.1000  23.3000  24.9000  27.1000  32.3000  32.4000\n",
      "GHA     NaN      NaN      NaN      NaN      NaN  43.3400  40.5100\n",
      "GRC     NaN      NaN      NaN      NaN  39.8900  41.7900      NaN\n",
      "HKG     NaN      NaN  39.8000  37.3000  45.1800  42.0000  45.0000\n",
      "HND     NaN      NaN      NaN      NaN      NaN  54.0000  54.0000\n",
      "IDN     NaN      NaN      NaN  42.2100  39.0000  39.6900  38.2900\n",
      "IND   37.74  36.9800  35.7700  38.7400  38.0900  36.2900  38.6200\n",
      "IRL     NaN      NaN  38.6900  35.6500      NaN      NaN      NaN\n",
      "IRN     NaN  52.0500  48.8800      NaN      NaN      NaN      NaN\n",
      "ITA     NaN      NaN  39.0000  34.2900  33.1500  32.7400  32.1900\n",
      "JAM     NaN      NaN      NaN      NaN      NaN  48.3900  44.5200\n",
      "JPN   34.80  35.5000  34.4000  33.4000  35.9000  35.0000      NaN\n",
      "KOR   34.34  33.3000  36.0100  38.6300  34.5400  33.6400      NaN\n",
      "LKA   47.00  37.7100  35.3000  42.0000  45.3000  36.7000      NaN\n",
      "MEX   55.50  57.7000  57.9000  50.0000  50.5800  54.9800  56.9100\n",
      "MUS     NaN      NaN      NaN      NaN      NaN  46.2300  43.2900\n",
      "MYS     NaN  50.0000  51.8000  51.0000  48.0000  48.3500      NaN\n",
      "NLD     NaN      NaN  28.6000  28.1400  29.1000  29.6000  29.3846\n",
      "NOR   37.52  36.0400  37.4800  31.1500  31.3900  33.1100  33.3100\n",
      "NZL     NaN      NaN      NaN  34.7900  35.8200  40.2100      NaN\n",
      "PAK     NaN  36.5100  38.0500  38.9200  39.0400  38.0300  37.7500\n",
      "PER     NaN      NaN      NaN      NaN  49.3300  49.3600  51.4700\n",
      "PHL     NaN      NaN      NaN      NaN  46.0800  45.7300  45.0000\n",
      "PRT     NaN      NaN  40.5800  36.8000      NaN      NaN      NaN\n",
      "SGP     NaN      NaN  41.0000  40.6900  42.0000  39.0000      NaN\n",
      "SWE     NaN  33.4097  27.3086  32.4400  31.2400  32.5200  32.4400\n",
      "THA   41.28  42.6300  41.7400      NaN  43.1000  48.8000  51.5000\n",
      "TTO     NaN      NaN  51.0000  46.0900  41.7200      NaN      NaN\n",
      "TUN     NaN      NaN  50.6000  49.6000  49.6000  46.8400      NaN\n",
      "TUR     NaN  56.0000  51.0000      NaN      NaN      NaN      NaN\n",
      "UGA     NaN      NaN      NaN      NaN      NaN  39.6000  47.3800\n",
      "USA   34.64  34.0600  34.4200  35.2000  37.2600  37.8000  37.9400\n",
      "VEN     NaN      NaN  47.6500  39.4200  42.8200  53.8400      NaN\n"
     ]
    }
   ],
   "source": [
    "print data_frame[['code', 'year', 'gini']].set_index(['code', 'year']).unstack(level=1)"
   ]
  },
  {
   "cell_type": "code",
   "execution_count": null,
   "metadata": {
    "collapsed": true
   },
   "outputs": [],
   "source": []
  },
  {
   "cell_type": "code",
   "execution_count": null,
   "metadata": {
    "collapsed": true
   },
   "outputs": [],
   "source": []
  }
 ],
 "metadata": {
  "kernelspec": {
   "display_name": "Python 2",
   "language": "python",
   "name": "python2"
  },
  "language_info": {
   "codemirror_mode": {
    "name": "ipython",
    "version": 2
   },
   "file_extension": ".py",
   "mimetype": "text/x-python",
   "name": "python",
   "nbconvert_exporter": "python",
   "pygments_lexer": "ipython2",
   "version": "2.7.6"
  }
 },
 "nbformat": 4,
 "nbformat_minor": 0
}
