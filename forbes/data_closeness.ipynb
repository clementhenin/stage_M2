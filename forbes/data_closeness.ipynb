{
 "cells": [
  {
   "cell_type": "code",
   "execution_count": 3,
   "metadata": {
    "collapsed": true
   },
   "outputs": [],
   "source": [
    "%matplotlib inline"
   ]
  },
  {
   "cell_type": "code",
   "execution_count": 4,
   "metadata": {
    "collapsed": true
   },
   "outputs": [],
   "source": [
    "import pandas as pd\n",
    "import numpy as np"
   ]
  },
  {
   "cell_type": "markdown",
   "metadata": {},
   "source": [
    "# Importing the data from sources"
   ]
  },
  {
   "cell_type": "markdown",
   "metadata": {},
   "source": [
    "## Inequality measures Deininger and Squire"
   ]
  },
  {
   "cell_type": "markdown",
   "metadata": {},
   "source": [
    "Not sure whether the good quality criteria in Forbes deals with the variable Quality or Q. In order to be confident of our data, we impose the two conditions. \n",
    "This leads us to 679 points which is very close to the 682 points of the paper. "
   ]
  },
  {
   "cell_type": "markdown",
   "metadata": {},
   "source": [
    "We also add 6.6 we the data is based on expenditure and not on income (on the same cell to be sure that it is not done twice. "
   ]
  },
  {
   "cell_type": "code",
   "execution_count": 5,
   "metadata": {
    "collapsed": false,
    "scrolled": true
   },
   "outputs": [
    {
     "name": "stdout",
     "output_type": "stream",
     "text": [
      "<class 'pandas.core.frame.DataFrame'>\n",
      "Int64Index: 679 entries, 0 to 2631\n",
      "Data columns (total 3 columns):\n",
      "Code    679 non-null object\n",
      "Year    679 non-null int64\n",
      "Gini    679 non-null object\n",
      "dtypes: int64(1), object(2)\n",
      "memory usage: 21.2+ KB\n"
     ]
    }
   ],
   "source": [
    "DS = pd.read_excel(\"Deininger_and Squire.XLS\", usecols=[\"Code\", \"Quality\", \"Year\", \"Gini\", \"Q\", 'Inc'])\n",
    "DS = DS.query(\"Q == 'good' and Quality == 'accept'\")\n",
    "DS.drop_duplicates([\"Code\", \"Year\"], inplace=True)\n",
    "DS['Gini'].astype(float, inplace=True)\n",
    "\n",
    "DS.loc[DS['Inc']=='E', 'Gini'] += 6.6\n",
    "\n",
    "DS = DS[[\"Code\", \"Year\", \"Gini\"]]\n",
    "DS.info()"
   ]
  },
  {
   "cell_type": "markdown",
   "metadata": {},
   "source": [
    "## Educational data : Barro-Lee"
   ]
  },
  {
   "cell_type": "markdown",
   "metadata": {},
   "source": [
    "We take the data directly from the BarroLee website. Cf list of name variable name."
   ]
  },
  {
   "cell_type": "code",
   "execution_count": 6,
   "metadata": {
    "collapsed": false
   },
   "outputs": [],
   "source": [
    "male_educ = pd.read_csv(\"male_attainment_25_BarroLee.csv\", usecols=[\"year\", \"WBcode\", \"yr_sch_sec\"])\n",
    "female_educ = pd.read_csv(\"female_attainment_25_BarroLee.csv\", usecols=[\"year\", \"WBcode\", \"yr_sch_sec\"])"
   ]
  },
  {
   "cell_type": "code",
   "execution_count": 7,
   "metadata": {
    "collapsed": false
   },
   "outputs": [
    {
     "name": "stdout",
     "output_type": "stream",
     "text": [
      "<class 'pandas.core.frame.DataFrame'>\n",
      "Int64Index: 1898 entries, 0 to 1897\n",
      "Data columns (total 3 columns):\n",
      "year          1898 non-null int64\n",
      "yr_sch_sec    1898 non-null float64\n",
      "WBcode        1898 non-null object\n",
      "dtypes: float64(1), int64(1), object(1)\n",
      "memory usage: 59.3+ KB\n",
      "None\n",
      "<class 'pandas.core.frame.DataFrame'>\n",
      "Int64Index: 1898 entries, 0 to 1897\n",
      "Data columns (total 3 columns):\n",
      "year          1898 non-null int64\n",
      "yr_sch_sec    1898 non-null float64\n",
      "WBcode        1898 non-null object\n",
      "dtypes: float64(1), int64(1), object(1)\n",
      "memory usage: 59.3+ KB\n",
      "None\n"
     ]
    }
   ],
   "source": [
    "print male_educ.info()\n",
    "print female_educ.info()"
   ]
  },
  {
   "cell_type": "markdown",
   "metadata": {},
   "source": [
    "## Income"
   ]
  },
  {
   "cell_type": "markdown",
   "metadata": {},
   "source": [
    "We downloaded the data from data.worldbank. The name of the variable has changed from GNP to GNI we should investigate to decide whether or not the differences are big. \n",
    "We secretly hope that the data before 1995 hasn't been changed and consequently that the new name of the variable affects nothing for our study. "
   ]
  },
  {
   "cell_type": "markdown",
   "metadata": {},
   "source": [
    "inc = pd.read_excel(\"pwt56_forweb.xls\", usecols=[\"Country\", \"Year\", \"RGDPCH\"]).dropna(subset=[\"RGDPCH\"])\n",
    "country_dict = pd.read_csv(\"../data_source/country_code_list.csv\")\n",
    "\n",
    "country_dict.loc[:, 'country'] = country_dict['country'].apply(lambda x: x.upper())\n",
    "country_dict.set_index('country', inplace=True)\n",
    "\n",
    "inc.replace(\"CAPE VERDE IS.\", \"CABO VERDE\", inplace=True)\n",
    "inc.replace(\"CENTRAL AFR.R.\", \"CENTRAL AFRICAN REPUBLIC\", inplace=True)\n",
    "inc.replace(\"GUINEA-BISS\", \"GUINEA-BISSAU\", inplace=True)\n",
    "\n",
    "inc = inc.query(\"Country != 'REUNION'\")\n",
    "\n",
    "inc = inc.query(\"Country != 'ZAIRE'\")\n",
    "\n",
    "inc.replace(\"DOMINICAN REP.\", \"DOMINICAN REPUBLIC\", inplace=True)\n",
    "inc.replace(\"ST.KITTS&NEVIS\", \"SAINT KITTS AND NEVIS\", inplace=True)\n",
    "inc.replace(\"ST.LUCIA\", \"SAINT LUCIA\", inplace=True)\n",
    "inc.replace(\"TRINIDAD&TOBAGO\", \"TRINIDAD AND TOBAGO\", inplace=True)\n",
    "inc.replace(\"U.S.A.\", \"UNITED STATES OF AMERICA\", inplace=True)\n",
    "inc.replace(\"KOREA, REP.\", \"SOUTH KOREA\", inplace=True)\n",
    "inc.replace(\"SYRIA\", \"SYRIAN ARAB REPUBLIC\", inplace=True)\n",
    "inc.replace(\"UNITED ARAB E.\", \"UNITED ARAB EMIRATES\", inplace=True)\n",
    "inc.replace(\"YEMEN\", \"REPUBLIC OF YEMEN\", inplace=True)\n",
    "\n",
    "inc = inc.query(\"Country != 'GERMANY, EAST'\")\n",
    "\n",
    "inc.replace(\"GERMANY, WEST\", \"GERMANY\", inplace=True)\n",
    "inc.replace(\"U.K.\", \"UNITED KINGDOM\", inplace=True)\n",
    "inc.replace(\"U.S.S.R.\", \"RUSSIAN FEDERATION\", inplace=True)\n",
    "inc.replace(\"PAPUA N.GUINEA\", \"PAPUA NEW GUINEA\", inplace=True)\n",
    "inc.replace(\"SOLOMON IS.\", \"SOLOMON ISLANDS\", inplace=True)\n",
    "inc.replace(\"ST.VINCENT&GRE\", \"SAINT VINCENT AND THE GRENADINES\", inplace=True)\n",
    "inc.replace(\"WESTERN SAMOA\", \"SAMOA\", inplace=True)\n",
    "\n",
    "inc['code'] = inc['Country'].apply(lambda x: country_dict.loc[x])\n",
    "inc.columns = [\"Country\", \"year\", \"GDP_PC\", \"code\"]\n",
    "inc = inc[['code', 'year', 'GDP_PC']]"
   ]
  },
  {
   "cell_type": "code",
   "execution_count": 8,
   "metadata": {
    "collapsed": false
   },
   "outputs": [
    {
     "name": "stdout",
     "output_type": "stream",
     "text": [
      "<class 'pandas.core.frame.DataFrame'>\n",
      "Int64Index: 10346 entries, 0 to 10345\n",
      "Data columns (total 3 columns):\n",
      "code      10346 non-null object\n",
      "year      10346 non-null object\n",
      "GNI_PC    10346 non-null float64\n",
      "dtypes: float64(1), object(2)\n",
      "memory usage: 323.3+ KB\n",
      "None\n"
     ]
    }
   ],
   "source": [
    "inc = pd.read_csv(\"GDP_PC_WB.csv\", skiprows=4)\n",
    "del inc[\"Country Name\"], inc['Indicator Code'], inc['Indicator Name']\n",
    "inc.set_index(\"Country Code\", inplace=True)\n",
    "inc = inc.stack().reset_index()\n",
    "inc.columns = [\"code\", \"year\", \"GNI_PC\"]\n",
    "print inc.info()"
   ]
  },
  {
   "cell_type": "markdown",
   "metadata": {},
   "source": [
    "## Price Level of Investment"
   ]
  },
  {
   "cell_type": "markdown",
   "metadata": {},
   "source": [
    "Extracted from the Penn World Table 5.6 (as in Forbes). The name of the variable is PI (cf. documentation column number [15]). "
   ]
  },
  {
   "cell_type": "markdown",
   "metadata": {},
   "source": [
    "We now convert the Country name to the corresponding code using our good old dictionary. "
   ]
  },
  {
   "cell_type": "code",
   "execution_count": 9,
   "metadata": {
    "collapsed": false
   },
   "outputs": [
    {
     "name": "stderr",
     "output_type": "stream",
     "text": [
      "/usr/local/lib/python2.7/dist-packages/pandas/core/index.py:1759: UnicodeWarning: Unicode equal comparison failed to convert both arguments to Unicode - interpreting them as being unequal\n",
      "  return self._engine.get_loc(key)\n"
     ]
    }
   ],
   "source": [
    "PPPI = pd.read_excel(\"pwt56_forweb.xls\", usecols=[\"Country\", \"Year\", \"PI\"]).dropna(subset=[\"PI\"])\n",
    "country_dict = pd.read_csv(\"../data_source/country_code_list.csv\")\n",
    "\n",
    "country_dict.loc[:, 'country'] = country_dict['country'].apply(lambda x: x.upper())\n",
    "country_dict.set_index('country', inplace=True)\n",
    "\n",
    "PPPI.replace(\"CAPE VERDE IS.\", \"CABO VERDE\", inplace=True)\n",
    "PPPI.replace(\"CENTRAL AFR.R.\", \"CENTRAL AFRICAN REPUBLIC\", inplace=True)\n",
    "PPPI.replace(\"GUINEA-BISS\", \"GUINEA-BISSAU\", inplace=True)\n",
    "\n",
    "PPPI = PPPI.query(\"Country != 'REUNION'\")\n",
    "\n",
    "PPPI = PPPI.query(\"Country != 'ZAIRE'\")\n",
    "\n",
    "PPPI.replace(\"DOMINICAN REP.\", \"DOMINICAN REPUBLIC\", inplace=True)\n",
    "PPPI.replace(\"ST.KITTS&NEVIS\", \"SAINT KITTS AND NEVIS\", inplace=True)\n",
    "PPPI.replace(\"ST.LUCIA\", \"SAINT LUCIA\", inplace=True)\n",
    "PPPI.replace(\"TRINIDAD&TOBAGO\", \"TRINIDAD AND TOBAGO\", inplace=True)\n",
    "PPPI.replace(\"U.S.A.\", \"UNITED STATES OF AMERICA\", inplace=True)\n",
    "PPPI.replace(\"KOREA, REP.\", \"SOUTH KOREA\", inplace=True)\n",
    "PPPI.replace(\"SYRIA\", \"SYRIAN ARAB REPUBLIC\", inplace=True)\n",
    "PPPI.replace(\"UNITED ARAB E.\", \"UNITED ARAB EMIRATES\", inplace=True)\n",
    "PPPI.replace(\"YEMEN\", \"REPUBLIC OF YEMEN\", inplace=True)\n",
    "\n",
    "PPPI = PPPI.query(\"Country != 'GERMANY, EAST'\")\n",
    "\n",
    "PPPI.replace(\"GERMANY, WEST\", \"GERMANY\", inplace=True)\n",
    "PPPI.replace(\"U.K.\", \"UNITED KINGDOM\", inplace=True)\n",
    "PPPI.replace(\"U.S.S.R.\", \"RUSSIAN FEDERATION\", inplace=True)\n",
    "PPPI.replace(\"PAPUA N.GUINEA\", \"PAPUA NEW GUINEA\", inplace=True)\n",
    "PPPI.replace(\"SOLOMON IS.\", \"SOLOMON ISLANDS\", inplace=True)\n",
    "PPPI.replace(\"ST.VINCENT&GRE\", \"SAINT VINCENT AND THE GRENADINES\", inplace=True)\n",
    "PPPI.replace(\"WESTERN SAMOA\", \"SAMOA\", inplace=True)\n",
    "\n",
    "\n",
    "PPPI['code'] = PPPI['Country'].apply(lambda x: country_dict.loc[x])\n",
    "PPPI = PPPI[['code', 'Year', 'PI']]"
   ]
  },
  {
   "cell_type": "code",
   "execution_count": 10,
   "metadata": {
    "collapsed": false
   },
   "outputs": [
    {
     "name": "stdout",
     "output_type": "stream",
     "text": [
      "<class 'pandas.core.frame.DataFrame'>\n",
      "Int64Index: 4950 entries, 10 to 6533\n",
      "Data columns (total 3 columns):\n",
      "code    4950 non-null object\n",
      "Year    4950 non-null int64\n",
      "PI      4950 non-null float64\n",
      "dtypes: float64(1), int64(1), object(1)\n",
      "memory usage: 154.7+ KB\n"
     ]
    }
   ],
   "source": [
    "PPPI.info()"
   ]
  },
  {
   "cell_type": "markdown",
   "metadata": {},
   "source": [
    "# Gathering the data in one frame"
   ]
  },
  {
   "cell_type": "markdown",
   "metadata": {},
   "source": [
    "The first step is to remove rename the columns in preparation of the merging of the databases. \n",
    "We also remove all the duplicates in order to avoid the problems during the merging. "
   ]
  },
  {
   "cell_type": "markdown",
   "metadata": {},
   "source": [
    "### Drop duplicates and normalize the data from different sources"
   ]
  },
  {
   "cell_type": "code",
   "execution_count": 11,
   "metadata": {
    "collapsed": false
   },
   "outputs": [
    {
     "name": "stdout",
     "output_type": "stream",
     "text": [
      "Income duplicates : 0\n",
      "Inequality duplicates : 0\n",
      "PPPI duplicates : 0\n",
      "Male educ duplicates : 0\n",
      "Female Educ duplicates : 0\n"
     ]
    }
   ],
   "source": [
    "# rename the columns (in order to merge)\n",
    "DS.columns = [\"code\", \"year\", \"gini\"]\n",
    "PPPI.columns = [\"code\", \"year\", \"PPPI\"]\n",
    "male_educ.columns = [\"year\", \"sch_male\", \"code\"]\n",
    "female_educ.columns = [\"year\", \"sch_female\", \"code\"]\n",
    "\n",
    "# drop duplicates in order to avoid problems during the merging\n",
    "print \"Income duplicates :\", inc.duplicated(subset=['code', 'year']).sum()\n",
    "print \"Inequality duplicates :\", DS.duplicated(subset=['code', 'year']).sum()\n",
    "print \"PPPI duplicates :\", PPPI.duplicated(subset=['code', 'year']).sum()\n",
    "print \"Male educ duplicates :\", male_educ.duplicated(subset=['code', 'year']).sum()\n",
    "print \"Female Educ duplicates :\", female_educ.duplicated(subset=['code', 'year']).sum()\n",
    "\n",
    "# normalize the data types\n",
    "DS.loc[:, 'year'] = DS['year'].astype(int)\n",
    "DS.loc[:, 'code'] = DS['code'].astype(str)\n",
    "DS.loc[:, 'gini'] = DS['gini'].astype(float)\n",
    "\n",
    "PPPI.loc[:, 'year'] = PPPI['year'].astype(int)\n",
    "PPPI.loc[:, 'code'] = PPPI['code'].astype(str)\n",
    "PPPI.loc[:, 'PPPI'] = PPPI['PPPI'].astype(float)\n",
    "\n",
    "male_educ.loc[:, 'year'] = male_educ['year'].astype(int)\n",
    "male_educ.loc[:, 'code'] = male_educ['code'].astype(str)\n",
    "male_educ.loc[:, 'sch_male'] = male_educ['sch_male'].astype(float)\n",
    "\n",
    "female_educ.loc[:, 'year'] = female_educ['year'].astype(int)\n",
    "female_educ.loc[:, 'code'] = female_educ['code'].astype(str)\n",
    "female_educ.loc[:, 'sch_female'] = female_educ['sch_female'].astype(float)\n",
    "\n",
    "inc.loc[:, 'year'] = inc['year'].astype(int)\n",
    "inc.loc[:, 'code'] = inc['code'].astype(str)\n",
    "inc.loc[:, 'GNI_PC'] = inc['GNI_PC'].astype(float)"
   ]
  },
  {
   "cell_type": "markdown",
   "metadata": {},
   "source": [
    "We now have to make sure of the concordance country codes between bases..."
   ]
  },
  {
   "cell_type": "markdown",
   "metadata": {},
   "source": [
    "We found some problematic codes in the income database : codes that do not appear in our good old country code dictionary. We see that the corresponding countries are not countries or negligeable countries so we can just drop them from the database. "
   ]
  },
  {
   "cell_type": "code",
   "execution_count": 12,
   "metadata": {
    "collapsed": false
   },
   "outputs": [
    {
     "name": "stdout",
     "output_type": "stream",
     "text": [
      "                                       Country Name Country Code\n",
      "5                                        Arab World          ARB\n",
      "34                   Central Europe and the Baltics          CEB\n",
      "36                                  Channel Islands          CHI\n",
      "46                           Caribbean small states          CSS\n",
      "58            East Asia & Pacific (developing only)          EAP\n",
      "59          East Asia & Pacific (all income levels)          EAS\n",
      "60          Europe & Central Asia (developing only)          ECA\n",
      "61        Europe & Central Asia (all income levels)          ECS\n",
      "64                                        Euro area          EMU\n",
      "69                                   European Union          EUU\n",
      "70         Fragile and conflict affected situations          FCS\n",
      "90                                      High income          HIC\n",
      "93           Heavily indebted poor countries (HIPC)          HPC\n",
      "119     Latin America & Caribbean (developing only)          LAC\n",
      "125   Latin America & Caribbean (all income levels)          LCN\n",
      "126    Least developed countries: UN classification          LDC\n",
      "127                                      Low income          LIC\n",
      "130                             Lower middle income          LMC\n",
      "131                             Low & middle income          LMY\n",
      "143  Middle East & North Africa (all income levels)          MEA\n",
      "146                                   Middle income          MIC\n",
      "151    Middle East & North Africa (developing only)          MNA\n",
      "160                                   North America          NAC\n",
      "167                            High income: nonOECD          NOC\n",
      "171                               High income: OECD          OEC\n",
      "172                                    OECD members          OED\n",
      "174                              Other small states          OSS\n",
      "186                     Pacific island small states          PSS\n",
      "192                                      South Asia          SAS\n",
      "203            Sub-Saharan Africa (developing only)          SSA\n",
      "205          Sub-Saharan Africa (all income levels)          SSF\n",
      "206                                    Small states          SST\n",
      "231                             Upper middle income          UMC\n",
      "241                                           World          WLD\n"
     ]
    }
   ],
   "source": [
    "problematic_codes = list(set(inc.query(\"code not in \" + str(country_dict['code'].values.tolist()))['code']))\n",
    "country_code = pd.read_csv(\"GNI_per_capita_WB.csv\", skiprows=4, usecols=['Country Name', 'Country Code'])\n",
    "print country_code[country_code['Country Code'].apply(lambda x: x in problematic_codes)]\n",
    "inc = inc.query(\"code in \" + str(country_dict['code'].values.tolist()))"
   ]
  },
  {
   "cell_type": "markdown",
   "metadata": {},
   "source": [
    "In Dieninger and Squire some codes are not used anymore in the new nomenclature so we choose to change them to the new nomenclature. "
   ]
  },
  {
   "cell_type": "code",
   "execution_count": 13,
   "metadata": {
    "collapsed": false
   },
   "outputs": [
    {
     "name": "stdout",
     "output_type": "stream",
     "text": [
      "           Country Code\n",
      "162        Belarus  BRS\n",
      "580      Czech Rep  CSR\n",
      "1407   Kyrgyz Rep.  KYR\n",
      "1409        Latvia  LAT\n",
      "1415     Lithuania  LIT\n",
      "1541       Moldova  MLD\n",
      "1914       Romania  ROM\n",
      "1956        Slovak  SLO\n",
      "1957   Slovak Rep.  SLO\n",
      "1966      Slovenia  SVA\n",
      "1981  Soviet Union  SUN\n",
      "2151        Taiwan  OAN\n"
     ]
    }
   ],
   "source": [
    "problematic_codes = list(set(DS.query(\"code not in \" + str(country_dict['code'].values.tolist()))['code']))\n",
    "country_code = pd.read_excel(\"Deininger_and Squire.XLS\", usecols=[\"Code\", \"Country\"])\n",
    "print country_code[country_code['Code'].apply(lambda x: x in problematic_codes)].drop_duplicates()\n",
    "\n",
    "DS.replace(\"BRS\", \"BLR\", inplace=True)\n",
    "DS.replace(\"CSR\", \"CZE\", inplace=True)\n",
    "DS.replace(\"KYR\", \"KGZ\", inplace=True)\n",
    "DS.replace(\"LAT\", \"LVA\", inplace=True)\n",
    "DS.replace(\"LIT\", \"LTU\", inplace=True)\n",
    "DS.replace(\"MLD\", \"MDA\", inplace=True)\n",
    "DS.replace(\"ROM\", \"ROU\", inplace=True)\n",
    "DS.replace(\"SLO\", \"SVK\", inplace=True)\n",
    "DS.replace(\"SVA\", \"SVN\", inplace=True)\n",
    "DS.replace(\"SUN\", \"RUS\", inplace=True)\n",
    "DS.replace(\"OAN\", \"TWN\", inplace=True)"
   ]
  },
  {
   "cell_type": "markdown",
   "metadata": {},
   "source": [
    "In the educationnal data from Barro and Lee some codes are not used anymore in the new nomenclature so we choose to change them to the new nomenclature. "
   ]
  },
  {
   "cell_type": "code",
   "execution_count": 14,
   "metadata": {
    "collapsed": false
   },
   "outputs": [
    {
     "name": "stdout",
     "output_type": "stream",
     "text": [
      "                  country WBcode\n",
      "1833  Republic of Moldova    ROM\n",
      "1846               Serbia    SER\n"
     ]
    }
   ],
   "source": [
    "problematic_codes = list(set(male_educ.query(\"code not in \" + str(country_dict['code'].values.tolist()))['code']))\n",
    "country_code = pd.read_csv(\"male_attainment_25_BarroLee.csv\", usecols=[\"WBcode\", \"country\"])\n",
    "print country_code[country_code['WBcode'].apply(lambda x: x in problematic_codes)].drop_duplicates()\n",
    "\n",
    "male_educ.replace(\"ROM\", \"MDA\", inplace=True)\n",
    "male_educ.replace(\"SER\", \"SRB\", inplace=True)"
   ]
  },
  {
   "cell_type": "code",
   "execution_count": 15,
   "metadata": {
    "collapsed": false
   },
   "outputs": [
    {
     "name": "stdout",
     "output_type": "stream",
     "text": [
      "                  country WBcode\n",
      "1833  Republic of Moldova    ROM\n",
      "1846               Serbia    SER\n"
     ]
    }
   ],
   "source": [
    "problematic_codes = list(set(female_educ.query(\"code not in \" + str(country_dict['code'].values.tolist()))['code']))\n",
    "country_code = pd.read_csv(\"female_attainment_25_BarroLee.csv\", usecols=[\"WBcode\", \"country\"])\n",
    "print country_code[country_code['WBcode'].apply(lambda x: x in problematic_codes)].drop_duplicates()\n",
    "\n",
    "male_educ.replace(\"ROM\", \"MDA\", inplace=True)\n",
    "male_educ.replace(\"SER\", \"SRB\", inplace=True)"
   ]
  },
  {
   "cell_type": "markdown",
   "metadata": {},
   "source": [
    "### Merging the data"
   ]
  },
  {
   "cell_type": "code",
   "execution_count": 16,
   "metadata": {
    "collapsed": false,
    "scrolled": true
   },
   "outputs": [
    {
     "name": "stdout",
     "output_type": "stream",
     "text": [
      "<class 'pandas.core.frame.DataFrame'>\n",
      "Int64Index: 10485 entries, 0 to 10484\n",
      "Data columns (total 7 columns):\n",
      "code          10485 non-null object\n",
      "year          10485 non-null float64\n",
      "gini          679 non-null float64\n",
      "PPPI          4950 non-null float64\n",
      "sch_male      1898 non-null float64\n",
      "sch_female    1898 non-null float64\n",
      "GNI_PC        8745 non-null float64\n",
      "dtypes: float64(6), object(1)\n",
      "memory usage: 655.3+ KB\n"
     ]
    }
   ],
   "source": [
    "data_frame = pd.merge(DS, PPPI, on=['code', 'year'],how='outer')\n",
    "data_frame = pd.merge(data_frame, male_educ, on=['code', 'year'], how='outer')\n",
    "data_frame = pd.merge(data_frame, female_educ, on=['code', 'year'], how='outer')\n",
    "data_frame = pd.merge(data_frame, inc, on=['code', 'year'], how='outer')\n",
    "data_frame.info()"
   ]
  },
  {
   "cell_type": "markdown",
   "metadata": {},
   "source": [
    "### Taking the log of the GDP"
   ]
  },
  {
   "cell_type": "code",
   "execution_count": 17,
   "metadata": {
    "collapsed": false
   },
   "outputs": [],
   "source": [
    "data_frame[\"log(GNI_PC)\"] = data_frame['GNI_PC'].apply(np.log)\n",
    "del data_frame['GNI_PC']"
   ]
  },
  {
   "cell_type": "markdown",
   "metadata": {},
   "source": [
    "### Resampling the data"
   ]
  },
  {
   "cell_type": "markdown",
   "metadata": {},
   "source": [
    "Complicated task because it is done in a complex way in the paper. This particular point could be critized btw. \n",
    "One has to read the paper carefully to obtain information on how the resampling is done (note 8). The author choose not to use the mean of all values in the period but only the first values which is not the good way to do in my opinion but here we just redo the calculations. Because the data on inequality is sparse, she allows the values to be not only the first one but the closest from the first one in the considered period. "
   ]
  },
  {
   "cell_type": "code",
   "execution_count": 18,
   "metadata": {
    "collapsed": true
   },
   "outputs": [],
   "source": [
    "data_frame.reset_index(inplace=True)\n",
    "period = float(5)\n",
    "tuples = zip(data_frame['code'],\n",
    "             (((data_frame['year'].values - 1) // period) * period))\n",
    "df_copy = data_frame.copy()\n",
    "df_copy.index = pd.MultiIndex.from_tuples(tuples)\n",
    "df_copy = df_copy.groupby(level=[0, 1]).last().dropna(how='all')\n",
    "df_copy.index.names = ['code', 'year']"
   ]
  },
  {
   "cell_type": "code",
   "execution_count": 19,
   "metadata": {
    "collapsed": false
   },
   "outputs": [],
   "source": [
    "data_frame = df_copy\n",
    "del df_copy\n",
    "data_frame = data_frame[['gini', 'PPPI', 'sch_male', 'sch_female', 'log(GNI_PC)']]"
   ]
  },
  {
   "cell_type": "code",
   "execution_count": 20,
   "metadata": {
    "collapsed": false
   },
   "outputs": [
    {
     "data": {
      "text/html": [
       "<div>\n",
       "<table border=\"1\" class=\"dataframe\">\n",
       "  <thead>\n",
       "    <tr style=\"text-align: right;\">\n",
       "      <th></th>\n",
       "      <th>gini</th>\n",
       "      <th>PPPI</th>\n",
       "      <th>sch_male</th>\n",
       "      <th>sch_female</th>\n",
       "      <th>log(GNI_PC)</th>\n",
       "    </tr>\n",
       "    <tr>\n",
       "      <th>year</th>\n",
       "      <th></th>\n",
       "      <th></th>\n",
       "      <th></th>\n",
       "      <th></th>\n",
       "      <th></th>\n",
       "    </tr>\n",
       "  </thead>\n",
       "  <tbody>\n",
       "    <tr>\n",
       "      <th>1945</th>\n",
       "      <td>NaN</td>\n",
       "      <td>93.36</td>\n",
       "      <td>1.93</td>\n",
       "      <td>2.28</td>\n",
       "      <td>NaN</td>\n",
       "    </tr>\n",
       "    <tr>\n",
       "      <th>1950</th>\n",
       "      <td>32.56</td>\n",
       "      <td>105.73</td>\n",
       "      <td>2.13</td>\n",
       "      <td>2.43</td>\n",
       "      <td>NaN</td>\n",
       "    </tr>\n",
       "    <tr>\n",
       "      <th>1955</th>\n",
       "      <td>32.04</td>\n",
       "      <td>107.67</td>\n",
       "      <td>2.34</td>\n",
       "      <td>2.59</td>\n",
       "      <td>7.738300</td>\n",
       "    </tr>\n",
       "    <tr>\n",
       "      <th>1960</th>\n",
       "      <td>31.61</td>\n",
       "      <td>103.34</td>\n",
       "      <td>2.54</td>\n",
       "      <td>2.62</td>\n",
       "      <td>7.835784</td>\n",
       "    </tr>\n",
       "    <tr>\n",
       "      <th>1965</th>\n",
       "      <td>32.30</td>\n",
       "      <td>107.06</td>\n",
       "      <td>2.80</td>\n",
       "      <td>2.79</td>\n",
       "      <td>8.322554</td>\n",
       "    </tr>\n",
       "    <tr>\n",
       "      <th>1970</th>\n",
       "      <td>31.62</td>\n",
       "      <td>116.46</td>\n",
       "      <td>3.28</td>\n",
       "      <td>3.10</td>\n",
       "      <td>8.543599</td>\n",
       "    </tr>\n",
       "    <tr>\n",
       "      <th>1975</th>\n",
       "      <td>31.00</td>\n",
       "      <td>93.33</td>\n",
       "      <td>3.68</td>\n",
       "      <td>3.45</td>\n",
       "      <td>9.316364</td>\n",
       "    </tr>\n",
       "    <tr>\n",
       "      <th>1980</th>\n",
       "      <td>32.81</td>\n",
       "      <td>74.53</td>\n",
       "      <td>3.81</td>\n",
       "      <td>3.57</td>\n",
       "      <td>9.546185</td>\n",
       "    </tr>\n",
       "    <tr>\n",
       "      <th>1985</th>\n",
       "      <td>27.56</td>\n",
       "      <td>78.84</td>\n",
       "      <td>4.03</td>\n",
       "      <td>3.93</td>\n",
       "      <td>9.966575</td>\n",
       "    </tr>\n",
       "    <tr>\n",
       "      <th>1990</th>\n",
       "      <td>27.65</td>\n",
       "      <td>68.43</td>\n",
       "      <td>4.24</td>\n",
       "      <td>4.14</td>\n",
       "      <td>9.892714</td>\n",
       "    </tr>\n",
       "    <tr>\n",
       "      <th>1995</th>\n",
       "      <td>NaN</td>\n",
       "      <td>NaN</td>\n",
       "      <td>4.42</td>\n",
       "      <td>4.37</td>\n",
       "      <td>10.003767</td>\n",
       "    </tr>\n",
       "    <tr>\n",
       "      <th>2000</th>\n",
       "      <td>NaN</td>\n",
       "      <td>NaN</td>\n",
       "      <td>5.04</td>\n",
       "      <td>4.99</td>\n",
       "      <td>10.368165</td>\n",
       "    </tr>\n",
       "    <tr>\n",
       "      <th>2005</th>\n",
       "      <td>NaN</td>\n",
       "      <td>NaN</td>\n",
       "      <td>5.20</td>\n",
       "      <td>5.18</td>\n",
       "      <td>10.615558</td>\n",
       "    </tr>\n",
       "    <tr>\n",
       "      <th>2010</th>\n",
       "      <td>NaN</td>\n",
       "      <td>NaN</td>\n",
       "      <td>NaN</td>\n",
       "      <td>NaN</td>\n",
       "      <td>10.824475</td>\n",
       "    </tr>\n",
       "  </tbody>\n",
       "</table>\n",
       "</div>"
      ],
      "text/plain": [
       "       gini    PPPI  sch_male  sch_female  log(GNI_PC)\n",
       "year                                                  \n",
       "1945    NaN   93.36      1.93        2.28          NaN\n",
       "1950  32.56  105.73      2.13        2.43          NaN\n",
       "1955  32.04  107.67      2.34        2.59     7.738300\n",
       "1960  31.61  103.34      2.54        2.62     7.835784\n",
       "1965  32.30  107.06      2.80        2.79     8.322554\n",
       "1970  31.62  116.46      3.28        3.10     8.543599\n",
       "1975  31.00   93.33      3.68        3.45     9.316364\n",
       "1980  32.81   74.53      3.81        3.57     9.546185\n",
       "1985  27.56   78.84      4.03        3.93     9.966575\n",
       "1990  27.65   68.43      4.24        4.14     9.892714\n",
       "1995    NaN     NaN      4.42        4.37    10.003767\n",
       "2000    NaN     NaN      5.04        4.99    10.368165\n",
       "2005    NaN     NaN      5.20        5.18    10.615558\n",
       "2010    NaN     NaN       NaN         NaN    10.824475"
      ]
     },
     "execution_count": 20,
     "metadata": {},
     "output_type": "execute_result"
    }
   ],
   "source": [
    "data_frame.loc['CAN']"
   ]
  },
  {
   "cell_type": "markdown",
   "metadata": {},
   "source": [
    "### Computing the growth column (of income and Gini)"
   ]
  },
  {
   "cell_type": "code",
   "execution_count": 21,
   "metadata": {
    "collapsed": false
   },
   "outputs": [],
   "source": [
    "data_frame.reset_index(inplace=True)\n",
    "data_frame.sort_values(['code', 'year'], inplace=True)\n",
    "data_frame.set_index(['code'], inplace=True)"
   ]
  },
  {
   "cell_type": "code",
   "execution_count": 22,
   "metadata": {
    "collapsed": false
   },
   "outputs": [],
   "source": [
    "new_frame = pd.DataFrame()\n",
    "for country in set(data_frame.index.values):\n",
    "    sel = data_frame.loc[country]\n",
    "    if sel.shape != (6,):\n",
    "        sel['growth'] = (sel.shift(-1)['log(GNI_PC)'] - sel['log(GNI_PC)']) / (sel.shift(-1)['year'] - sel['year'])\n",
    "        # sel['gini_growth'] = (sel['gini'] - sel.shift(1)['gini']) / (sel.shift(-1)['year'] - sel['year'])\n",
    "        new_frame = pd.concat([new_frame, sel])"
   ]
  },
  {
   "cell_type": "code",
   "execution_count": 23,
   "metadata": {
    "collapsed": false
   },
   "outputs": [
    {
     "data": {
      "text/html": [
       "<div>\n",
       "<table border=\"1\" class=\"dataframe\">\n",
       "  <thead>\n",
       "    <tr style=\"text-align: right;\">\n",
       "      <th></th>\n",
       "      <th>year</th>\n",
       "      <th>gini</th>\n",
       "      <th>PPPI</th>\n",
       "      <th>sch_male</th>\n",
       "      <th>sch_female</th>\n",
       "      <th>log(GNI_PC)</th>\n",
       "      <th>growth</th>\n",
       "    </tr>\n",
       "    <tr>\n",
       "      <th>code</th>\n",
       "      <th></th>\n",
       "      <th></th>\n",
       "      <th></th>\n",
       "      <th></th>\n",
       "      <th></th>\n",
       "      <th></th>\n",
       "      <th></th>\n",
       "    </tr>\n",
       "  </thead>\n",
       "  <tbody>\n",
       "    <tr>\n",
       "      <th>CAN</th>\n",
       "      <td>1945</td>\n",
       "      <td>NaN</td>\n",
       "      <td>93.36</td>\n",
       "      <td>1.93</td>\n",
       "      <td>2.28</td>\n",
       "      <td>NaN</td>\n",
       "      <td>NaN</td>\n",
       "    </tr>\n",
       "    <tr>\n",
       "      <th>CAN</th>\n",
       "      <td>1950</td>\n",
       "      <td>32.56</td>\n",
       "      <td>105.73</td>\n",
       "      <td>2.13</td>\n",
       "      <td>2.43</td>\n",
       "      <td>NaN</td>\n",
       "      <td>NaN</td>\n",
       "    </tr>\n",
       "    <tr>\n",
       "      <th>CAN</th>\n",
       "      <td>1955</td>\n",
       "      <td>32.04</td>\n",
       "      <td>107.67</td>\n",
       "      <td>2.34</td>\n",
       "      <td>2.59</td>\n",
       "      <td>7.738300</td>\n",
       "      <td>0.019497</td>\n",
       "    </tr>\n",
       "    <tr>\n",
       "      <th>CAN</th>\n",
       "      <td>1960</td>\n",
       "      <td>31.61</td>\n",
       "      <td>103.34</td>\n",
       "      <td>2.54</td>\n",
       "      <td>2.62</td>\n",
       "      <td>7.835784</td>\n",
       "      <td>0.097354</td>\n",
       "    </tr>\n",
       "    <tr>\n",
       "      <th>CAN</th>\n",
       "      <td>1965</td>\n",
       "      <td>32.30</td>\n",
       "      <td>107.06</td>\n",
       "      <td>2.80</td>\n",
       "      <td>2.79</td>\n",
       "      <td>8.322554</td>\n",
       "      <td>0.044209</td>\n",
       "    </tr>\n",
       "    <tr>\n",
       "      <th>CAN</th>\n",
       "      <td>1970</td>\n",
       "      <td>31.62</td>\n",
       "      <td>116.46</td>\n",
       "      <td>3.28</td>\n",
       "      <td>3.10</td>\n",
       "      <td>8.543599</td>\n",
       "      <td>0.154553</td>\n",
       "    </tr>\n",
       "    <tr>\n",
       "      <th>CAN</th>\n",
       "      <td>1975</td>\n",
       "      <td>31.00</td>\n",
       "      <td>93.33</td>\n",
       "      <td>3.68</td>\n",
       "      <td>3.45</td>\n",
       "      <td>9.316364</td>\n",
       "      <td>0.045964</td>\n",
       "    </tr>\n",
       "    <tr>\n",
       "      <th>CAN</th>\n",
       "      <td>1980</td>\n",
       "      <td>32.81</td>\n",
       "      <td>74.53</td>\n",
       "      <td>3.81</td>\n",
       "      <td>3.57</td>\n",
       "      <td>9.546185</td>\n",
       "      <td>0.084078</td>\n",
       "    </tr>\n",
       "    <tr>\n",
       "      <th>CAN</th>\n",
       "      <td>1985</td>\n",
       "      <td>27.56</td>\n",
       "      <td>78.84</td>\n",
       "      <td>4.03</td>\n",
       "      <td>3.93</td>\n",
       "      <td>9.966575</td>\n",
       "      <td>-0.014772</td>\n",
       "    </tr>\n",
       "    <tr>\n",
       "      <th>CAN</th>\n",
       "      <td>1990</td>\n",
       "      <td>27.65</td>\n",
       "      <td>68.43</td>\n",
       "      <td>4.24</td>\n",
       "      <td>4.14</td>\n",
       "      <td>9.892714</td>\n",
       "      <td>0.022211</td>\n",
       "    </tr>\n",
       "    <tr>\n",
       "      <th>CAN</th>\n",
       "      <td>1995</td>\n",
       "      <td>NaN</td>\n",
       "      <td>NaN</td>\n",
       "      <td>4.42</td>\n",
       "      <td>4.37</td>\n",
       "      <td>10.003767</td>\n",
       "      <td>0.072880</td>\n",
       "    </tr>\n",
       "    <tr>\n",
       "      <th>CAN</th>\n",
       "      <td>2000</td>\n",
       "      <td>NaN</td>\n",
       "      <td>NaN</td>\n",
       "      <td>5.04</td>\n",
       "      <td>4.99</td>\n",
       "      <td>10.368165</td>\n",
       "      <td>0.049479</td>\n",
       "    </tr>\n",
       "    <tr>\n",
       "      <th>CAN</th>\n",
       "      <td>2005</td>\n",
       "      <td>NaN</td>\n",
       "      <td>NaN</td>\n",
       "      <td>5.20</td>\n",
       "      <td>5.18</td>\n",
       "      <td>10.615558</td>\n",
       "      <td>0.041783</td>\n",
       "    </tr>\n",
       "    <tr>\n",
       "      <th>CAN</th>\n",
       "      <td>2010</td>\n",
       "      <td>NaN</td>\n",
       "      <td>NaN</td>\n",
       "      <td>NaN</td>\n",
       "      <td>NaN</td>\n",
       "      <td>10.824475</td>\n",
       "      <td>NaN</td>\n",
       "    </tr>\n",
       "  </tbody>\n",
       "</table>\n",
       "</div>"
      ],
      "text/plain": [
       "      year   gini    PPPI  sch_male  sch_female  log(GNI_PC)    growth\n",
       "code                                                                  \n",
       "CAN   1945    NaN   93.36      1.93        2.28          NaN       NaN\n",
       "CAN   1950  32.56  105.73      2.13        2.43          NaN       NaN\n",
       "CAN   1955  32.04  107.67      2.34        2.59     7.738300  0.019497\n",
       "CAN   1960  31.61  103.34      2.54        2.62     7.835784  0.097354\n",
       "CAN   1965  32.30  107.06      2.80        2.79     8.322554  0.044209\n",
       "CAN   1970  31.62  116.46      3.28        3.10     8.543599  0.154553\n",
       "CAN   1975  31.00   93.33      3.68        3.45     9.316364  0.045964\n",
       "CAN   1980  32.81   74.53      3.81        3.57     9.546185  0.084078\n",
       "CAN   1985  27.56   78.84      4.03        3.93     9.966575 -0.014772\n",
       "CAN   1990  27.65   68.43      4.24        4.14     9.892714  0.022211\n",
       "CAN   1995    NaN     NaN      4.42        4.37    10.003767  0.072880\n",
       "CAN   2000    NaN     NaN      5.04        4.99    10.368165  0.049479\n",
       "CAN   2005    NaN     NaN      5.20        5.18    10.615558  0.041783\n",
       "CAN   2010    NaN     NaN       NaN         NaN    10.824475       NaN"
      ]
     },
     "execution_count": 23,
     "metadata": {},
     "output_type": "execute_result"
    }
   ],
   "source": [
    "new_frame.loc['CAN']"
   ]
  },
  {
   "cell_type": "code",
   "execution_count": 24,
   "metadata": {
    "collapsed": false
   },
   "outputs": [],
   "source": [
    "data_frame = new_frame.query(\"1985 >= year >= 1960\").dropna(how='any')\n",
    "del new_frame"
   ]
  },
  {
   "cell_type": "markdown",
   "metadata": {},
   "source": [
    "### Removing countries that doesn't have at least 2 consecutives observations"
   ]
  },
  {
   "cell_type": "code",
   "execution_count": 25,
   "metadata": {
    "collapsed": false
   },
   "outputs": [
    {
     "name": "stdout",
     "output_type": "stream",
     "text": [
      "<class 'pandas.core.frame.DataFrame'>\n",
      "Int64Index: 181 entries, 3 to 173\n",
      "Data columns (total 8 columns):\n",
      "code           181 non-null object\n",
      "year           181 non-null float64\n",
      "gini           181 non-null float64\n",
      "PPPI           181 non-null float64\n",
      "sch_male       181 non-null float64\n",
      "sch_female     181 non-null float64\n",
      "log(GNI_PC)    181 non-null float64\n",
      "growth         181 non-null float64\n",
      "dtypes: float64(7), object(1)\n",
      "memory usage: 12.7+ KB\n"
     ]
    }
   ],
   "source": [
    "new_frame = pd.DataFrame()\n",
    "data_frame.reset_index(inplace=True)\n",
    "for country in set(data_frame['code']):\n",
    "    if len(data_frame.query(\"code == '\" + str(country) + \"'\")) > 1:\n",
    "        sel = data_frame.query(\"code == '\" + str(country) + \"'\")\n",
    "        sel = sel.loc[((sel.shift(-1).year - sel.year) == 5) | ((sel.year - sel.shift(1).year) == 5)]\n",
    "        new_frame = pd.concat([new_frame, sel])\n",
    "data_frame = new_frame\n",
    "del new_frame\n",
    "data_frame.info()"
   ]
  },
  {
   "cell_type": "code",
   "execution_count": 26,
   "metadata": {
    "collapsed": false
   },
   "outputs": [],
   "source": [
    "data_frame.sort_values(['code', 'year']).to_csv(\"forbes_dataset.csv\", index=False)"
   ]
  },
  {
   "cell_type": "markdown",
   "metadata": {},
   "source": [
    "# Comparing with the data presented in the paper"
   ]
  },
  {
   "cell_type": "code",
   "execution_count": 27,
   "metadata": {
    "collapsed": false
   },
   "outputs": [
    {
     "name": "stdout",
     "output_type": "stream",
     "text": [
      "categorize          mean     std     min      max\n",
      "            year                                 \n",
      "PPPI        1960  77.385  21.762  40.750  119.160\n",
      "            1965  67.948  18.928  41.150  107.060\n",
      "            1970  85.604  24.082  36.450  139.580\n",
      "            1975  95.598  30.612  35.330  187.260\n",
      "            1980  66.842  23.813  31.860  162.850\n",
      "            1985  79.609  32.627  27.910  136.140\n",
      "gini        1960  38.587   8.197  24.300   55.500\n",
      "            1965  40.824   9.558  25.100   57.700\n",
      "            1970  40.665   9.464  23.300   61.940\n",
      "            1975  38.794   9.021  24.900   63.180\n",
      "            1980  38.545   8.070  23.420   61.760\n",
      "            1985  39.211   8.374  24.530   59.600\n",
      "growth      1960   0.058   0.038  -0.012    0.126\n",
      "            1965   0.140   0.088  -0.061    0.320\n",
      "            1970   0.120   0.063  -0.075    0.211\n",
      "            1975   0.002   0.054  -0.084    0.135\n",
      "            1980   0.096   0.071  -0.084    0.224\n",
      "            1985   0.031   0.062  -0.146    0.131\n",
      "log(GNI_PC) 1960   6.312   1.395   4.661    8.250\n",
      "            1965   6.578   1.326   4.742    8.565\n",
      "            1970   7.465   1.151   5.082    9.012\n",
      "            1975   8.070   1.355   5.207    9.666\n",
      "            1980   7.969   1.367   5.276    9.813\n",
      "            1985   8.361   1.600   5.698   10.314\n",
      "sch_female  1960   1.024   1.155   0.030    3.790\n",
      "            1965   1.024   1.056   0.040    4.300\n",
      "            1970   1.256   1.145   0.060    4.760\n",
      "            1975   1.643   1.220   0.110    5.110\n",
      "            1980   1.860   1.224   0.220    5.260\n",
      "            1985   2.162   1.303   0.290    5.370\n",
      "sch_male    1960   1.283   1.023   0.270    3.710\n",
      "            1965   1.344   0.963   0.320    4.260\n",
      "            1970   1.623   1.128   0.100    4.750\n",
      "            1975   2.060   1.197   0.370    5.140\n",
      "            1980   2.311   1.160   0.670    4.880\n",
      "            1985   2.584   1.214   0.780    4.800\n"
     ]
    }
   ],
   "source": [
    "pd.set_option('precision', 3)\n",
    "nb_per = len(set(data_frame.year))\n",
    "resume = pd.DataFrame()\n",
    "resume = pd.concat([resume, data_frame.groupby('year').mean()])\n",
    "resume = pd.concat([resume, data_frame.groupby('year').std()])\n",
    "resume = pd.concat([resume, data_frame.groupby('year').min()])\n",
    "resume = pd.concat([resume, data_frame.groupby('year').max()])\n",
    "del resume['code']\n",
    "resume['categorize'] = (['mean'] * nb_per + ['std'] * nb_per + ['min'] * nb_per + ['max'] * nb_per) \n",
    "result = resume.reset_index().set_index(['categorize', 'year']).stack(level=0).unstack(level=0).swaplevel(0,1).sort_index()\n",
    "print result[['mean', 'std', 'min', 'max']]"
   ]
  },
  {
   "cell_type": "code",
   "execution_count": 28,
   "metadata": {
    "collapsed": false,
    "scrolled": false
   },
   "outputs": [
    {
     "name": "stdout",
     "output_type": "stream",
     "text": [
      "       gini                                       \n",
      "year   1960   1965    1970    1975    1980    1985\n",
      "code                                              \n",
      "AUS     NaN    NaN     NaN  39.330  37.580  41.720\n",
      "BEL     NaN    NaN     NaN  28.250  26.222     NaN\n",
      "BGD   37.31  34.20  36.000  35.170  36.000  35.450\n",
      "BGR     NaN    NaN     NaN  25.010  23.420  24.530\n",
      "BRA     NaN  57.61  61.940  57.780  61.760  59.600\n",
      "CAN   31.61  32.30  31.620  31.000  32.810  27.560\n",
      "CHL     NaN  45.64  46.000  53.210     NaN     NaN\n",
      "CHN     NaN    NaN     NaN  32.000  31.400  34.600\n",
      "CIV     NaN    NaN     NaN     NaN  47.810  43.490\n",
      "COL     NaN  52.02  46.000  54.500     NaN     NaN\n",
      "CRI     NaN    NaN  44.400  45.000  47.000  46.070\n",
      "DEU     NaN  33.57  30.616  32.065  32.195     NaN\n",
      "DNK     NaN    NaN     NaN  31.000  30.990  33.145\n",
      "DOM     NaN    NaN     NaN  45.000  43.290     NaN\n",
      "ESP     NaN    NaN  37.110  33.390  31.790  32.510\n",
      "FIN     NaN  31.80  27.000  30.860  30.840  26.188\n",
      "FRA   47.00  44.00  43.000  34.850  34.914     NaN\n",
      "GAB     NaN    NaN  59.270  63.180     NaN     NaN\n",
      "GBR   24.30  25.10  23.300  24.900  27.100  32.300\n",
      "GRC     NaN    NaN     NaN     NaN  39.890  41.790\n",
      "HKG     NaN    NaN  39.800  37.300  45.180  42.000\n",
      "IDN     NaN    NaN     NaN  42.210  39.000  39.690\n",
      "IND   37.74  36.98  35.770  38.740  38.090  36.290\n",
      "IRL     NaN    NaN  38.690  35.650     NaN     NaN\n",
      "IRN     NaN  52.05  48.880     NaN     NaN     NaN\n",
      "ITA     NaN    NaN  39.000  34.290  33.150  32.740\n",
      "JPN   34.80  35.50  34.400  33.400  35.900  35.000\n",
      "KOR   34.34  33.30  36.010  38.630  34.540  33.640\n",
      "LKA   47.00  37.71  35.300  42.000  45.300  36.700\n",
      "MEX   55.50  57.70  57.900  50.000  50.580  54.980\n",
      "MYS     NaN  50.00  51.800  51.000  48.000  48.350\n",
      "NLD     NaN    NaN  28.600  28.140  29.100  29.600\n",
      "NOR   37.52  36.04  37.480  31.150  31.390  33.110\n",
      "NZL     NaN    NaN  30.040  34.790  35.820  40.210\n",
      "PAK     NaN  36.51  38.050  38.920  39.040  38.030\n",
      "PER     NaN    NaN     NaN     NaN  49.330  49.360\n",
      "PHL     NaN    NaN     NaN     NaN  46.080  45.730\n",
      "PRT     NaN    NaN  40.580  36.800     NaN     NaN\n",
      "SGP     NaN    NaN  41.000  40.690  42.000  39.000\n",
      "SWE     NaN  33.41  27.309  32.440  31.240  32.520\n",
      "THA   41.28  42.63  41.740     NaN  43.100  48.800\n",
      "TTO     NaN    NaN  51.000  46.090  41.720     NaN\n",
      "TUN     NaN    NaN  50.600  49.600  49.600  46.840\n",
      "TUR     NaN  56.00  51.000     NaN     NaN     NaN\n",
      "USA   34.64  34.06  34.420  35.200  37.260  37.800\n",
      "VEN     NaN    NaN  47.650  39.420  42.820  53.840\n"
     ]
    }
   ],
   "source": [
    "print data_frame[['code', 'year', 'gini']].set_index(['code', 'year']).unstack(level=1)"
   ]
  },
  {
   "cell_type": "code",
   "execution_count": null,
   "metadata": {
    "collapsed": true
   },
   "outputs": [],
   "source": []
  },
  {
   "cell_type": "code",
   "execution_count": null,
   "metadata": {
    "collapsed": true
   },
   "outputs": [],
   "source": []
  }
 ],
 "metadata": {
  "kernelspec": {
   "display_name": "Python 2",
   "language": "python",
   "name": "python2"
  },
  "language_info": {
   "codemirror_mode": {
    "name": "ipython",
    "version": 2
   },
   "file_extension": ".py",
   "mimetype": "text/x-python",
   "name": "python",
   "nbconvert_exporter": "python",
   "pygments_lexer": "ipython2",
   "version": "2.7.6"
  }
 },
 "nbformat": 4,
 "nbformat_minor": 0
}
