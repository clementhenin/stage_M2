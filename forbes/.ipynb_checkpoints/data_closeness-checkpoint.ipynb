{
 "cells": [
  {
   "cell_type": "code",
   "execution_count": 122,
   "metadata": {
    "collapsed": true
   },
   "outputs": [],
   "source": [
    "%matplotlib inline"
   ]
  },
  {
   "cell_type": "code",
   "execution_count": 123,
   "metadata": {
    "collapsed": true
   },
   "outputs": [],
   "source": [
    "import pandas as pd\n",
    "import numpy as np"
   ]
  },
  {
   "cell_type": "markdown",
   "metadata": {},
   "source": [
    "# Importing the data from sources"
   ]
  },
  {
   "cell_type": "markdown",
   "metadata": {},
   "source": [
    "## Inequality measures Deininger and Squire"
   ]
  },
  {
   "cell_type": "markdown",
   "metadata": {},
   "source": [
    "Not sure whether the good quality criteria in Forbes deals with the variable Quality or Q. In order to be confident of our data, we impose the two conditions. \n",
    "This leads us to 679 points which is very close to the 682 points of the paper. "
   ]
  },
  {
   "cell_type": "markdown",
   "metadata": {},
   "source": [
    "We also add 6.6 we the data is based on expenditure and not on income (on the same cell to be sure that it is not done twice. "
   ]
  },
  {
   "cell_type": "code",
   "execution_count": 124,
   "metadata": {
    "collapsed": false,
    "scrolled": true
   },
   "outputs": [
    {
     "name": "stdout",
     "output_type": "stream",
     "text": [
      "<class 'pandas.core.frame.DataFrame'>\n",
      "Int64Index: 679 entries, 0 to 2631\n",
      "Data columns (total 3 columns):\n",
      "Code    679 non-null object\n",
      "Year    679 non-null int64\n",
      "Gini    679 non-null object\n",
      "dtypes: int64(1), object(2)\n",
      "memory usage: 21.2+ KB\n"
     ]
    }
   ],
   "source": [
    "DS = pd.read_excel(\"Deininger_and Squire.XLS\", usecols=[\"Code\", \"Quality\", \"Year\", \"Gini\", \"Q\", 'Inc'])\n",
    "DS = DS.query(\"Q == 'good' and Quality == 'accept'\")\n",
    "DS.drop_duplicates([\"Code\", \"Year\"], inplace=True)\n",
    "DS['Gini'].astype(float, inplace=True)\n",
    "\n",
    "DS.loc[DS['Inc']=='E', 'Gini'] += 6.6\n",
    "\n",
    "DS = DS[[\"Code\", \"Year\", \"Gini\"]]\n",
    "DS.info()"
   ]
  },
  {
   "cell_type": "markdown",
   "metadata": {},
   "source": [
    "## Educational data : Barro-Lee"
   ]
  },
  {
   "cell_type": "markdown",
   "metadata": {},
   "source": [
    "We take the data directly from the BarroLee website. Cf list of name variable name."
   ]
  },
  {
   "cell_type": "code",
   "execution_count": 125,
   "metadata": {
    "collapsed": false
   },
   "outputs": [],
   "source": [
    "male_educ = pd.read_csv(\"male_attainment_25_BarroLee.csv\", usecols=[\"year\", \"WBcode\", \"yr_sch_sec\"])\n",
    "female_educ = pd.read_csv(\"female_attainment_25_BarroLee.csv\", usecols=[\"year\", \"WBcode\", \"yr_sch_sec\"])"
   ]
  },
  {
   "cell_type": "code",
   "execution_count": 126,
   "metadata": {
    "collapsed": false
   },
   "outputs": [
    {
     "name": "stdout",
     "output_type": "stream",
     "text": [
      "<class 'pandas.core.frame.DataFrame'>\n",
      "Int64Index: 1898 entries, 0 to 1897\n",
      "Data columns (total 3 columns):\n",
      "year          1898 non-null int64\n",
      "yr_sch_sec    1898 non-null float64\n",
      "WBcode        1898 non-null object\n",
      "dtypes: float64(1), int64(1), object(1)\n",
      "memory usage: 59.3+ KB\n",
      "None\n",
      "<class 'pandas.core.frame.DataFrame'>\n",
      "Int64Index: 1898 entries, 0 to 1897\n",
      "Data columns (total 3 columns):\n",
      "year          1898 non-null int64\n",
      "yr_sch_sec    1898 non-null float64\n",
      "WBcode        1898 non-null object\n",
      "dtypes: float64(1), int64(1), object(1)\n",
      "memory usage: 59.3+ KB\n",
      "None\n"
     ]
    }
   ],
   "source": [
    "print male_educ.info()\n",
    "print female_educ.info()"
   ]
  },
  {
   "cell_type": "markdown",
   "metadata": {},
   "source": [
    "## Income"
   ]
  },
  {
   "cell_type": "markdown",
   "metadata": {},
   "source": [
    "We downloaded the data from data.worldbank. The name of the variable has changed from GNP to GNI we should investigate to decide whether or not the differences are big. \n",
    "We secretly hope that the data before 1995 hasn't been changed and consequently that the new name of the variable affects nothing for our study. "
   ]
  },
  {
   "cell_type": "code",
   "execution_count": 148,
   "metadata": {
    "collapsed": false
   },
   "outputs": [
    {
     "name": "stdout",
     "output_type": "stream",
     "text": [
      "<class 'pandas.core.frame.DataFrame'>\n",
      "Int64Index: 9131 entries, 0 to 9130\n",
      "Data columns (total 3 columns):\n",
      "code      9131 non-null object\n",
      "year      9131 non-null object\n",
      "GNI_PC    9131 non-null float64\n",
      "dtypes: float64(1), object(2)\n",
      "memory usage: 285.3+ KB\n",
      "None\n"
     ]
    }
   ],
   "source": [
    "inc = pd.read_csv(\"GNI_per_capita_WB.csv\", skiprows=4)\n",
    "del inc[\"Country Name\"], inc['Indicator Code'], inc['Indicator Name']\n",
    "inc.set_index(\"Country Code\", inplace=True)\n",
    "inc = inc.stack().reset_index()\n",
    "inc.columns = [\"code\", \"year\", \"GNI_PC\"]\n",
    "print inc.info()"
   ]
  },
  {
   "cell_type": "markdown",
   "metadata": {},
   "source": [
    "## Price Level of Investment"
   ]
  },
  {
   "cell_type": "markdown",
   "metadata": {},
   "source": [
    "Extracted from the Penn World Table 5.6 (as in Forbes). The name of the variable is PI (cf. documentation column number [15]). "
   ]
  },
  {
   "cell_type": "markdown",
   "metadata": {},
   "source": [
    "We now convert the Country name to the corresponding code using our good old dictionary. "
   ]
  },
  {
   "cell_type": "code",
   "execution_count": 140,
   "metadata": {
    "collapsed": false
   },
   "outputs": [],
   "source": [
    "PPPI = pd.read_excel(\"pwt56_forweb.xls\", usecols=[\"Country\", \"Year\", \"PI\"]).dropna(subset=[\"PI\"])\n",
    "country_dict = pd.read_csv(\"../data_source/country_code_list.csv\")\n",
    "\n",
    "country_dict.loc[:, 'country'] = country_dict['country'].apply(lambda x: x.upper())\n",
    "country_dict.set_index('country', inplace=True)\n",
    "\n",
    "PPPI.replace(\"CAPE VERDE IS.\", \"CABO VERDE\", inplace=True)\n",
    "PPPI.replace(\"CENTRAL AFR.R.\", \"CENTRAL AFRICAN REPUBLIC\", inplace=True)\n",
    "PPPI.replace(\"GUINEA-BISS\", \"GUINEA-BISSAU\", inplace=True)\n",
    "\n",
    "PPPI = PPPI.query(\"Country != 'REUNION'\")\n",
    "\n",
    "PPPI = PPPI.query(\"Country != 'ZAIRE'\")\n",
    "\n",
    "PPPI.replace(\"DOMINICAN REP.\", \"DOMINICAN REPUBLIC\", inplace=True)\n",
    "PPPI.replace(\"ST.KITTS&NEVIS\", \"SAINT KITTS AND NEVIS\", inplace=True)\n",
    "PPPI.replace(\"ST.LUCIA\", \"SAINT LUCIA\", inplace=True)\n",
    "PPPI.replace(\"TRINIDAD&TOBAGO\", \"TRINIDAD AND TOBAGO\", inplace=True)\n",
    "PPPI.replace(\"U.S.A.\", \"UNITED STATES OF AMERICA\", inplace=True)\n",
    "PPPI.replace(\"KOREA, REP.\", \"SOUTH KOREA\", inplace=True)\n",
    "PPPI.replace(\"SYRIA\", \"SYRIAN ARAB REPUBLIC\", inplace=True)\n",
    "PPPI.replace(\"UNITED ARAB E.\", \"UNITED ARAB EMIRATES\", inplace=True)\n",
    "PPPI.replace(\"YEMEN\", \"REPUBLIC OF YEMEN\", inplace=True)\n",
    "\n",
    "PPPI = PPPI.query(\"Country != 'GERMANY, EAST'\")\n",
    "\n",
    "PPPI.replace(\"GERMANY, WEST\", \"GERMANY\", inplace=True)\n",
    "PPPI.replace(\"U.K.\", \"UNITED KINGDOM\", inplace=True)\n",
    "PPPI.replace(\"U.S.S.R.\", \"RUSSIAN FEDERATION\", inplace=True)\n",
    "PPPI.replace(\"PAPUA N.GUINEA\", \"PAPUA NEW GUINEA\", inplace=True)\n",
    "PPPI.replace(\"SOLOMON IS.\", \"SOLOMON ISLANDS\", inplace=True)\n",
    "PPPI.replace(\"ST.VINCENT&GRE\", \"SAINT VINCENT AND THE GRENADINES\", inplace=True)\n",
    "PPPI.replace(\"WESTERN SAMOA\", \"SAMOA\", inplace=True)\n",
    "\n",
    "\n",
    "PPPI['code'] = PPPI['Country'].apply(lambda x: country_dict.loc[x])\n",
    "PPPI = PPPI[['code', 'Year', 'PI']]"
   ]
  },
  {
   "cell_type": "code",
   "execution_count": 141,
   "metadata": {
    "collapsed": false
   },
   "outputs": [
    {
     "name": "stdout",
     "output_type": "stream",
     "text": [
      "<class 'pandas.core.frame.DataFrame'>\n",
      "Int64Index: 4950 entries, 10 to 6533\n",
      "Data columns (total 3 columns):\n",
      "code    4950 non-null object\n",
      "Year    4950 non-null int64\n",
      "PI      4950 non-null float64\n",
      "dtypes: float64(1), int64(1), object(1)\n",
      "memory usage: 154.7+ KB\n"
     ]
    }
   ],
   "source": [
    "PPPI.info()"
   ]
  },
  {
   "cell_type": "markdown",
   "metadata": {},
   "source": [
    "# Gathering the data in one frame"
   ]
  },
  {
   "cell_type": "markdown",
   "metadata": {},
   "source": [
    "The first step is to remove rename the columns in preparation of the merging of the databases. \n",
    "We also remove all the duplicates in order to avoid the problems during the merging. "
   ]
  },
  {
   "cell_type": "markdown",
   "metadata": {},
   "source": [
    "### Drop duplicates and normalize the data from different sources"
   ]
  },
  {
   "cell_type": "code",
   "execution_count": 214,
   "metadata": {
    "collapsed": false
   },
   "outputs": [
    {
     "name": "stdout",
     "output_type": "stream",
     "text": [
      "Income duplicates : 0\n",
      "Inequality duplicates : 0\n",
      "PPPI duplicates : 0\n",
      "Male educ duplicates : 0\n",
      "Female Educ duplicates : 0\n"
     ]
    }
   ],
   "source": [
    "# rename the columns (in order to merge)\n",
    "DS.columns = [\"code\", \"year\", \"gini\"]\n",
    "PPPI.columns = [\"code\", \"year\", \"PPPI\"]\n",
    "male_educ.columns = [\"year\", \"sch_male\", \"code\"]\n",
    "female_educ.columns = [\"year\", \"sch_female\", \"code\"]\n",
    "\n",
    "# drop duplicates in order to avoid problems during the merging\n",
    "print \"Income duplicates :\", inc.duplicated(subset=['code', 'year']).sum()\n",
    "print \"Inequality duplicates :\", DS.duplicated(subset=['code', 'year']).sum()\n",
    "print \"PPPI duplicates :\", PPPI.duplicated(subset=['code', 'year']).sum()\n",
    "print \"Male educ duplicates :\", male_educ.duplicated(subset=['code', 'year']).sum()\n",
    "print \"Female Educ duplicates :\", female_educ.duplicated(subset=['code', 'year']).sum()\n",
    "\n",
    "# normalize the data types\n",
    "DS.loc[:, 'year'] = DS['year'].astype(int)\n",
    "DS.loc[:, 'code'] = DS['code'].astype(str)\n",
    "DS.loc[:, 'gini'] = DS['gini'].astype(float)\n",
    "\n",
    "PPPI.loc[:, 'year'] = PPPI['year'].astype(int)\n",
    "PPPI.loc[:, 'code'] = PPPI['code'].astype(str)\n",
    "PPPI.loc[:, 'PPPI'] = PPPI['PPPI'].astype(float)\n",
    "\n",
    "male_educ.loc[:, 'year'] = male_educ['year'].astype(int)\n",
    "male_educ.loc[:, 'code'] = male_educ['code'].astype(str)\n",
    "male_educ.loc[:, 'sch_male'] = male_educ['sch_male'].astype(float)\n",
    "\n",
    "female_educ.loc[:, 'year'] = female_educ['year'].astype(int)\n",
    "female_educ.loc[:, 'code'] = female_educ['code'].astype(str)\n",
    "female_educ.loc[:, 'sch_female'] = female_educ['sch_female'].astype(float)\n",
    "\n",
    "inc.loc[:, 'year'] = inc['year'].astype(int)\n",
    "inc.loc[:, 'code'] = inc['code'].astype(str)\n",
    "inc.loc[:, 'GNI_PC'] = inc['GNI_PC'].astype(float)"
   ]
  },
  {
   "cell_type": "markdown",
   "metadata": {},
   "source": [
    "We now have to make sure of the concordance country codes between bases..."
   ]
  },
  {
   "cell_type": "markdown",
   "metadata": {},
   "source": [
    "We found some problematic codes in the income database : codes that do not appear in our good old country code dictionary. We see that the corresponding countries are not countries or negligeable countries so we can just drop them from the database. "
   ]
  },
  {
   "cell_type": "code",
   "execution_count": 215,
   "metadata": {
    "collapsed": false
   },
   "outputs": [
    {
     "name": "stdout",
     "output_type": "stream",
     "text": [
      "Empty DataFrame\n",
      "Columns: [Country Name, Country Code]\n",
      "Index: []\n"
     ]
    }
   ],
   "source": [
    "problematic_codes = list(set(inc.query(\"code not in \" + str(country_dict['code'].values.tolist()))['code']))\n",
    "country_code = pd.read_csv(\"GNI_per_capita_WB.csv\", skiprows=4, usecols=['Country Name', 'Country Code'])\n",
    "print country_code[country_code['Country Code'].apply(lambda x: x in problematic_codes)]\n",
    "inc = inc.query(\"code in \" + str(country_dict['code'].values.tolist()))"
   ]
  },
  {
   "cell_type": "markdown",
   "metadata": {},
   "source": [
    "In Dieninger and Squire some codes are not used anymore in the new nomenclature so we choose to change them to the new nomenclature. "
   ]
  },
  {
   "cell_type": "code",
   "execution_count": 216,
   "metadata": {
    "collapsed": false
   },
   "outputs": [
    {
     "name": "stdout",
     "output_type": "stream",
     "text": [
      "Empty DataFrame\n",
      "Columns: [Country, Code]\n",
      "Index: []\n"
     ]
    }
   ],
   "source": [
    "problematic_codes = list(set(DS.query(\"code not in \" + str(country_dict['code'].values.tolist()))['code']))\n",
    "country_code = pd.read_excel(\"Deininger_and Squire.XLS\", usecols=[\"Code\", \"Country\"])\n",
    "print country_code[country_code['Code'].apply(lambda x: x in problematic_codes)].drop_duplicates()\n",
    "\n",
    "DS.replace(\"BRS\", \"BLR\", inplace=True)\n",
    "DS.replace(\"CSR\", \"CZE\", inplace=True)\n",
    "DS.replace(\"KYR\", \"KGZ\", inplace=True)\n",
    "DS.replace(\"LAT\", \"LVA\", inplace=True)\n",
    "DS.replace(\"LIT\", \"LTU\", inplace=True)\n",
    "DS.replace(\"MLD\", \"MDA\", inplace=True)\n",
    "DS.replace(\"ROM\", \"ROU\", inplace=True)\n",
    "DS.replace(\"SLO\", \"SVK\", inplace=True)\n",
    "DS.replace(\"SVA\", \"SVN\", inplace=True)\n",
    "DS.replace(\"SUN\", \"RUS\", inplace=True)\n",
    "DS.replace(\"OAN\", \"TWN\", inplace=True)"
   ]
  },
  {
   "cell_type": "markdown",
   "metadata": {},
   "source": [
    "In the educationnal data from Barro and Lee some codes are not used anymore in the new nomenclature so we choose to change them to the new nomenclature. "
   ]
  },
  {
   "cell_type": "code",
   "execution_count": 217,
   "metadata": {
    "collapsed": false
   },
   "outputs": [
    {
     "name": "stdout",
     "output_type": "stream",
     "text": [
      "Empty DataFrame\n",
      "Columns: [country, WBcode]\n",
      "Index: []\n"
     ]
    }
   ],
   "source": [
    "problematic_codes = list(set(male_educ.query(\"code not in \" + str(country_dict['code'].values.tolist()))['code']))\n",
    "country_code = pd.read_csv(\"male_attainment_25_BarroLee.csv\", usecols=[\"WBcode\", \"country\"])\n",
    "print country_code[country_code['WBcode'].apply(lambda x: x in problematic_codes)].drop_duplicates()\n",
    "\n",
    "male_educ.replace(\"ROM\", \"MDA\", inplace=True)\n",
    "male_educ.replace(\"SER\", \"SRB\", inplace=True)"
   ]
  },
  {
   "cell_type": "code",
   "execution_count": 218,
   "metadata": {
    "collapsed": false
   },
   "outputs": [
    {
     "name": "stdout",
     "output_type": "stream",
     "text": [
      "                  country WBcode\n",
      "1833  Republic of Moldova    ROM\n",
      "1846               Serbia    SER\n"
     ]
    }
   ],
   "source": [
    "problematic_codes = list(set(female_educ.query(\"code not in \" + str(country_dict['code'].values.tolist()))['code']))\n",
    "country_code = pd.read_csv(\"female_attainment_25_BarroLee.csv\", usecols=[\"WBcode\", \"country\"])\n",
    "print country_code[country_code['WBcode'].apply(lambda x: x in problematic_codes)].drop_duplicates()\n",
    "\n",
    "male_educ.replace(\"ROM\", \"MDA\", inplace=True)\n",
    "male_educ.replace(\"SER\", \"SRB\", inplace=True)"
   ]
  },
  {
   "cell_type": "markdown",
   "metadata": {},
   "source": [
    "### Merging the data"
   ]
  },
  {
   "cell_type": "code",
   "execution_count": 220,
   "metadata": {
    "collapsed": false,
    "scrolled": true
   },
   "outputs": [],
   "source": [
    "data_frame = pd.merge(DS, PPPI, on=['code', 'year'],how='outer')\n",
    "data_frame = pd.merge(data_frame, male_educ, on=['code', 'year'], how='outer')\n",
    "data_frame = pd.merge(data_frame, female_educ, on=['code', 'year'], how='outer')\n",
    "data_frame = pd.merge(data_frame, inc, on=['code', 'year'], how='outer')"
   ]
  },
  {
   "cell_type": "markdown",
   "metadata": {},
   "source": [
    "### Resampling the data"
   ]
  },
  {
   "cell_type": "code",
   "execution_count": null,
   "metadata": {
    "collapsed": true
   },
   "outputs": [],
   "source": []
  }
 ],
 "metadata": {
  "kernelspec": {
   "display_name": "Python 2",
   "language": "python",
   "name": "python2"
  },
  "language_info": {
   "codemirror_mode": {
    "name": "ipython",
    "version": 2
   },
   "file_extension": ".py",
   "mimetype": "text/x-python",
   "name": "python",
   "nbconvert_exporter": "python",
   "pygments_lexer": "ipython2",
   "version": "2.7.6"
  }
 },
 "nbformat": 4,
 "nbformat_minor": 0
}
