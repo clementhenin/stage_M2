{
 "cells": [
  {
   "cell_type": "code",
   "execution_count": 31,
   "metadata": {
    "collapsed": true
   },
   "outputs": [],
   "source": [
    "%matplotlib inline"
   ]
  },
  {
   "cell_type": "code",
   "execution_count": 32,
   "metadata": {
    "collapsed": false
   },
   "outputs": [],
   "source": [
    "import pandas as pd\n",
    "import numpy as np\n",
    "execfile('../toolbox.py')\n",
    "pd.set_option(\"display.precision\", 2)"
   ]
  },
  {
   "cell_type": "markdown",
   "metadata": {},
   "source": [
    "### Importing the data and selecting variables"
   ]
  },
  {
   "cell_type": "code",
   "execution_count": 42,
   "metadata": {
    "collapsed": false
   },
   "outputs": [
    {
     "name": "stdout",
     "output_type": "stream",
     "text": [
      "Index([u'GDP_PC_WB', u'natural_ressources_WB', u'years_schooling',\n",
      "       u'gini_net_SWIID'],\n",
      "      dtype='object')\n",
      "<class 'pandas.core.frame.DataFrame'>\n",
      "MultiIndex: 11564 entries, (ABW, 1994.0) to (ZWE, 2014.0)\n",
      "Data columns (total 5 columns):\n",
      "gdp       8711 non-null float64\n",
      "nat_re    6757 non-null float64\n",
      "schl      9437 non-null float64\n",
      "gini      4611 non-null float64\n",
      "g         8499 non-null float64\n",
      "dtypes: float64(5)\n",
      "memory usage: 542.1+ KB\n",
      "None\n",
      "Number of countries  215\n"
     ]
    }
   ],
   "source": [
    "variables = [\"gini_net_SWIID\", \"years_schooling\", \"GDP_PC_WB\", \"natural_ressources_WB\"]\n",
    "\n",
    "data = pd.read_csv(\"../data_source/all_data.csv\", usecols=variables + ['code', 'year'], index_col=['code', 'year'])\n",
    "\n",
    "data.reset_index(inplace=True)\n",
    "data.sort_values(['code', 'year'], inplace=True)\n",
    "data.set_index(['code'], inplace=True)\n",
    "new_frame = pd.DataFrame()\n",
    "\n",
    "# extrapolating years of schooling to yearly data\n",
    "for country in set(data.index.values):\n",
    "    sel = data.loc[country]\n",
    "    if sel.shape != (len(variables) + 1,):\n",
    "        try:\n",
    "            sel.loc[:, 'years_schooling'] = sel['years_schooling'].interpolate()\n",
    "        except TypeError:\n",
    "            None\n",
    "        new_frame = pd.concat([new_frame, sel])\n",
    "data = new_frame.reset_index().set_index(['code', 'year']).sort_index(level=[0,1]).dropna(how='all')\n",
    "\n",
    "# adding a economic shock data\n",
    "# data['shock'] = 0\n",
    "# data.loc[(data.index.levels[0].tolist(), 1974), 'shock'] = 1\n",
    "# data.loc[(data.index.levels[0].tolist(), 1981), 'shock'] = 1\n",
    "# data.loc[(data.index.levels[0].tolist(), 1982), 'shock'] = 1\n",
    "# data.loc[(data.index.levels[0].tolist(), 2008), 'shock'] = 1\n",
    "# data.loc[(data.index.levels[0].tolist(), 2009), 'shock'] = 1\n",
    "print data.keys()\n",
    "\n",
    "# computing growth\n",
    "data['growth'] = growth(data, 'GDP_PC_WB', how='past', as_rate=True)\n",
    "\n",
    "# renaming the columns\n",
    "data.columns = [\"gdp\", \"nat_re\",\"schl\", \"gini\", \"g\"]\n",
    "\n",
    "print data.info()\n",
    "print \"Number of countries \", len(data.index.levels[0])"
   ]
  },
  {
   "cell_type": "markdown",
   "metadata": {},
   "source": [
    "## One point per contry"
   ]
  },
  {
   "cell_type": "code",
   "execution_count": 43,
   "metadata": {
    "collapsed": false
   },
   "outputs": [
    {
     "name": "stdout",
     "output_type": "stream",
     "text": [
      "<class 'pandas.core.frame.DataFrame'>\n",
      "Index: 122 entries, ALB to ZWE\n",
      "Data columns (total 5 columns):\n",
      "gdp       122 non-null float64\n",
      "nat_re    122 non-null float64\n",
      "schl      122 non-null float64\n",
      "gini      122 non-null float64\n",
      "g         122 non-null float64\n",
      "dtypes: float64(5)\n",
      "memory usage: 5.7+ KB\n"
     ]
    }
   ],
   "source": [
    "countries = (data.notnull().groupby(level=0).sum() >= 10).all(axis=1)\n",
    "mean_data = data.query(\"code in \" + str(countries[countries].index.tolist())).groupby(level=0).mean()\n",
    "mean_data.info()"
   ]
  },
  {
   "cell_type": "code",
   "execution_count": 44,
   "metadata": {
    "collapsed": false
   },
   "outputs": [],
   "source": [
    "QCA_data = quartilize_dataset(mean_data, 2)\n",
    "for var in data.keys():\n",
    "    QCA_data.loc[:, var] = QCA_data['qu_' + var]\n",
    "    del QCA_data['qu_' + var]\n",
    "QCA_data.to_csv(\"QCA_all_years.csv\")"
   ]
  },
  {
   "cell_type": "markdown",
   "metadata": {
    "collapsed": false
   },
   "source": [
    "# 10 years periods"
   ]
  },
  {
   "cell_type": "code",
   "execution_count": 45,
   "metadata": {
    "collapsed": false
   },
   "outputs": [
    {
     "name": "stdout",
     "output_type": "stream",
     "text": [
      "<class 'pandas.core.frame.DataFrame'>\n",
      "MultiIndex: 325 entries, (ALB, 2005.0) to (ZWE, 2005.0)\n",
      "Data columns (total 5 columns):\n",
      "gdp       325 non-null float64\n",
      "nat_re    325 non-null float64\n",
      "schl      325 non-null float64\n",
      "gini      325 non-null float64\n",
      "g         325 non-null float64\n",
      "dtypes: float64(5)\n",
      "memory usage: 15.2+ KB\n"
     ]
    }
   ],
   "source": [
    "data_ten_y = resample(data, 10, 5).dropna()\n",
    "data_ten_y.info()"
   ]
  },
  {
   "cell_type": "markdown",
   "metadata": {},
   "source": [
    "## Median"
   ]
  },
  {
   "cell_type": "code",
   "execution_count": 46,
   "metadata": {
    "collapsed": false
   },
   "outputs": [
    {
     "name": "stdout",
     "output_type": "stream",
     "text": [
      "gdp  median  2453.55470151\n",
      "nat_re  median  2.91926963237\n",
      "schl  median  7.201\n",
      "gini  median  0.374208079338\n",
      "g  median  0.0513134008407\n"
     ]
    }
   ],
   "source": [
    "for var in data_ten_y.keys():\n",
    "    print var, \" median \", data_ten_y[var].median()\n",
    "QCA_data = quartilize_periodwise(data_ten_y, 2)\n",
    "QCA_data.index = QCA_data.index.to_native_types()\n",
    "QCA_data.index = map(lambda x: x[0] + x[1][2:], QCA_data.index.tolist())\n",
    "QCA_data.index.name = \"index\"\n",
    "QCA_data.to_csv(\"QCA_10y.csv\")"
   ]
  },
  {
   "cell_type": "markdown",
   "metadata": {
    "collapsed": false
   },
   "source": [
    "## 3 categories"
   ]
  },
  {
   "cell_type": "code",
   "execution_count": 49,
   "metadata": {
    "collapsed": false
   },
   "outputs": [],
   "source": [
    "QCA_data = quartilize_periodwise(data_ten_y, [2, 2, 2, 2, 2, 2])\n",
    "QCA_data.index = QCA_data.index.to_native_types()\n",
    "QCA_data.index = map(lambda x: x[0] + \" \" + x[1][2:], QCA_data.index.tolist())\n",
    "QCA_data.index.name = \"index\"\n",
    "#QCA_data.loc[:, 'g1h'] = (QCA_data['g'] == 2).apply(int)\n",
    "#QCA_data.loc[:, 'g3l'] = (QCA_data['g'] == 0).apply(int)\n",
    "QCA_data.to_csv(\"QCA_10y_3c.csv\")"
   ]
  },
  {
   "cell_type": "code",
   "execution_count": null,
   "metadata": {
    "collapsed": true
   },
   "outputs": [],
   "source": []
  }
 ],
 "metadata": {
  "kernelspec": {
   "display_name": "Python 2",
   "language": "python",
   "name": "python2"
  },
  "language_info": {
   "codemirror_mode": {
    "name": "ipython",
    "version": 2
   },
   "file_extension": ".py",
   "mimetype": "text/x-python",
   "name": "python",
   "nbconvert_exporter": "python",
   "pygments_lexer": "ipython2",
   "version": "2.7.6"
  }
 },
 "nbformat": 4,
 "nbformat_minor": 0
}
