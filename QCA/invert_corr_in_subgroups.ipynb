{
 "cells": [
  {
   "cell_type": "code",
   "execution_count": 2,
   "metadata": {
    "collapsed": true
   },
   "outputs": [],
   "source": [
    "import pandas as pd \n",
    "import numpy as np\n",
    "execfile(\"../toolbox.py\")"
   ]
  },
  {
   "cell_type": "code",
   "execution_count": 3,
   "metadata": {
    "collapsed": false
   },
   "outputs": [
    {
     "name": "stdout",
     "output_type": "stream",
     "text": [
      "Index([u'GDP_PC_WB', u'natural_ressources_WB', u'years_schooling',\n",
      "       u'gini_net_SWIID'],\n",
      "      dtype='object')\n",
      "<class 'pandas.core.frame.DataFrame'>\n",
      "MultiIndex: 325 entries, (ALB, 2005.0) to (ZWE, 2005.0)\n",
      "Data columns (total 5 columns):\n",
      "gdp       325 non-null float64\n",
      "nat_re    325 non-null float64\n",
      "schl      325 non-null float64\n",
      "gini      325 non-null float64\n",
      "g         325 non-null float64\n",
      "dtypes: float64(5)\n",
      "memory usage: 15.2+ KB\n",
      "Number of countries  210\n"
     ]
    }
   ],
   "source": [
    "variables = [\"gini_net_SWIID\", \"years_schooling\", \"GDP_PC_WB\", \"natural_ressources_WB\"]\n",
    "\n",
    "data = pd.read_csv(\"../data_source/all_data.csv\", usecols=variables + ['code', 'year'], index_col=['code', 'year'])\n",
    "\n",
    "data.reset_index(inplace=True)\n",
    "data.sort_values(['code', 'year'], inplace=True)\n",
    "data.set_index(['code'], inplace=True)\n",
    "new_frame = pd.DataFrame()\n",
    "\n",
    "# extrapolating years of schooling to yearly data\n",
    "for country in set(data.index.values):\n",
    "    sel = data.loc[country]\n",
    "    if sel.shape != (len(variables) + 1,):\n",
    "        try:\n",
    "            sel.loc[:, 'years_schooling'] = sel['years_schooling'].interpolate()\n",
    "        except TypeError:\n",
    "            None\n",
    "        new_frame = pd.concat([new_frame, sel])\n",
    "data = new_frame.reset_index().set_index(['code', 'year']).sort_index(level=[0,1]).dropna(how='all')\n",
    "\n",
    "# adding a economic shock data\n",
    "# data['shock'] = 0\n",
    "# data.loc[(data.index.levels[0].tolist(), 1974), 'shock'] = 1\n",
    "# data.loc[(data.index.levels[0].tolist(), 1981), 'shock'] = 1\n",
    "# data.loc[(data.index.levels[0].tolist(), 1982), 'shock'] = 1\n",
    "# data.loc[(data.index.levels[0].tolist(), 2008), 'shock'] = 1\n",
    "# data.loc[(data.index.levels[0].tolist(), 2009), 'shock'] = 1\n",
    "print data.keys()\n",
    "\n",
    "# computing growth\n",
    "data['growth'] = growth(data, 'GDP_PC_WB', how='past', as_rate=True)\n",
    "\n",
    "# renaming the columns\n",
    "data.columns = [\"gdp\", \"nat_re\",\"schl\", \"gini\", \"g\"]\n",
    "\n",
    "data_ten_y = resample(data, 10, 5).dropna()\n",
    "data_ten_y.info()\n",
    "\n",
    "print \"Number of countries \", len(data_ten_y.index.levels[0])"
   ]
  },
  {
   "cell_type": "code",
   "execution_count": 7,
   "metadata": {
    "collapsed": false
   },
   "outputs": [
    {
     "data": {
      "text/html": [
       "<div>\n",
       "<table border=\"1\" class=\"dataframe\">\n",
       "  <thead>\n",
       "    <tr style=\"text-align: right;\">\n",
       "      <th></th>\n",
       "      <th></th>\n",
       "      <th>0</th>\n",
       "      <th>1</th>\n",
       "      <th>all</th>\n",
       "    </tr>\n",
       "    <tr>\n",
       "      <th>gdp</th>\n",
       "      <th>gini</th>\n",
       "      <th></th>\n",
       "      <th></th>\n",
       "      <th></th>\n",
       "    </tr>\n",
       "  </thead>\n",
       "  <tbody>\n",
       "    <tr>\n",
       "      <th rowspan=\"2\" valign=\"top\">0</th>\n",
       "      <th>mean</th>\n",
       "      <td>0.040670</td>\n",
       "      <td>0.042033</td>\n",
       "      <td>0.0415841</td>\n",
       "    </tr>\n",
       "    <tr>\n",
       "      <th>size</th>\n",
       "      <td>53.000000</td>\n",
       "      <td>108.000000</td>\n",
       "      <td>161</td>\n",
       "    </tr>\n",
       "    <tr>\n",
       "      <th rowspan=\"2\" valign=\"top\">1</th>\n",
       "      <th>mean</th>\n",
       "      <td>0.063325</td>\n",
       "      <td>0.051195</td>\n",
       "      <td>0.059183</td>\n",
       "    </tr>\n",
       "    <tr>\n",
       "      <th>size</th>\n",
       "      <td>108.000000</td>\n",
       "      <td>56.000000</td>\n",
       "      <td>164</td>\n",
       "    </tr>\n",
       "    <tr>\n",
       "      <th rowspan=\"2\" valign=\"top\">all</th>\n",
       "      <th>mean</th>\n",
       "      <td>0.055867</td>\n",
       "      <td>0.045161</td>\n",
       "      <td></td>\n",
       "    </tr>\n",
       "    <tr>\n",
       "      <th>size</th>\n",
       "      <td>161.000000</td>\n",
       "      <td>164.000000</td>\n",
       "      <td></td>\n",
       "    </tr>\n",
       "  </tbody>\n",
       "</table>\n",
       "</div>"
      ],
      "text/plain": [
       "                   0           1        all\n",
       "gdp gini                                   \n",
       "0   mean    0.040670    0.042033  0.0415841\n",
       "    size   53.000000  108.000000        161\n",
       "1   mean    0.063325    0.051195   0.059183\n",
       "    size  108.000000   56.000000        164\n",
       "all mean    0.055867    0.045161           \n",
       "    size  161.000000  164.000000           "
      ]
     },
     "execution_count": 7,
     "metadata": {},
     "output_type": "execute_result"
    }
   ],
   "source": [
    "var_1 = 'gini'\n",
    "var_2 = 'gdp'\n",
    "output = 'g'\n",
    "functions = ['mean', 'size']\n",
    "nbr_quartiles = 2\n",
    "quart = quartilize_periodwise(data_ten_y, nbr_quartiles)\n",
    "quart.columns = ['qu_' + var for var in quart.keys()]\n",
    "frame = pd.concat([data_ten_y, quart], axis=1)\n",
    "center = frame.groupby(['qu_' + var_1, 'qu_' + var_2]).agg(functions)[output].stack().unstack('qu_' + var_1)\n",
    "last_col = frame.groupby(['qu_' + var_2]).agg(functions)[output].stack()\n",
    "last_col.columns = 'all'\n",
    "last_row = frame.groupby(['qu_' + var_1]).agg(functions)[output].transpose()\n",
    "last_row['0'] = [''] * len(functions)\n",
    "last_row.index = pd.MultiIndex.from_tuples([(\"all\", var) for var in last_row.index])\n",
    "full_mat = pd.concat([pd.concat([center, last_col], axis=1), \n",
    "                      last_row])\n",
    "full_mat.columns = range(nbr_quartiles) + ['all']\n",
    "full_mat.index.names = [var_2, var_1]\n",
    "full_mat"
   ]
  },
  {
   "cell_type": "code",
   "execution_count": 17,
   "metadata": {
    "collapsed": false
   },
   "outputs": [
    {
     "data": {
      "text/plain": [
       "gdp  gini\n",
       "0    mean    -0.001363\n",
       "     size   -55.000000\n",
       "1    mean     0.012130\n",
       "     size    52.000000\n",
       "all  mean     0.010706\n",
       "     size    -3.000000\n",
       "dtype: float64"
      ]
     },
     "execution_count": 17,
     "metadata": {},
     "output_type": "execute_result"
    }
   ],
   "source": [
    "full_mat[0] - full_mat[1]"
   ]
  },
  {
   "cell_type": "code",
   "execution_count": 9,
   "metadata": {
    "collapsed": false
   },
   "outputs": [
    {
     "data": {
      "text/plain": [
       "Int64Index([0, 1, 0], dtype='int64', name=u'qu_gini')"
      ]
     },
     "execution_count": 9,
     "metadata": {},
     "output_type": "execute_result"
    }
   ],
   "source": [
    "last_row.keys()"
   ]
  },
  {
   "cell_type": "code",
   "execution_count": 10,
   "metadata": {
    "collapsed": false
   },
   "outputs": [
    {
     "ename": "SyntaxError",
     "evalue": "invalid syntax (<ipython-input-10-ea450c7f52e7>, line 1)",
     "output_type": "error",
     "traceback": [
      "\u001b[1;36m  File \u001b[1;32m\"<ipython-input-10-ea450c7f52e7>\"\u001b[1;36m, line \u001b[1;32m1\u001b[0m\n\u001b[1;33m    ('qu_' + var_1, i) for i in (range(nbr_quartiles) + ['all'])\u001b[0m\n\u001b[1;37m                         ^\u001b[0m\n\u001b[1;31mSyntaxError\u001b[0m\u001b[1;31m:\u001b[0m invalid syntax\n"
     ]
    }
   ],
   "source": [
    "('qu_' + var_1, i) for i in (range(nbr_quartiles) + ['all'])"
   ]
  },
  {
   "cell_type": "code",
   "execution_count": null,
   "metadata": {
    "collapsed": true
   },
   "outputs": [],
   "source": []
  }
 ],
 "metadata": {
  "kernelspec": {
   "display_name": "Python 2",
   "language": "python",
   "name": "python2"
  },
  "language_info": {
   "codemirror_mode": {
    "name": "ipython",
    "version": 2
   },
   "file_extension": ".py",
   "mimetype": "text/x-python",
   "name": "python",
   "nbconvert_exporter": "python",
   "pygments_lexer": "ipython2",
   "version": "2.7.6"
  }
 },
 "nbformat": 4,
 "nbformat_minor": 0
}
