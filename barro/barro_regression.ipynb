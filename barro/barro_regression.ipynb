{
 "cells": [
  {
   "cell_type": "code",
   "execution_count": 113,
   "metadata": {
    "collapsed": true
   },
   "outputs": [],
   "source": [
    "import pandas as pd\n",
    "import datetime\n",
    "import numpy as np"
   ]
  },
  {
   "cell_type": "code",
   "execution_count": 114,
   "metadata": {
    "collapsed": false
   },
   "outputs": [
    {
     "data": {
      "text/html": [
       "<div style=\"max-height:1000px;max-width:1500px;overflow:auto;\">\n",
       "<table border=\"1\" class=\"dataframe\">\n",
       "  <thead>\n",
       "    <tr style=\"text-align: right;\">\n",
       "      <th></th>\n",
       "      <th></th>\n",
       "      <th>gini_DS</th>\n",
       "      <th>quality</th>\n",
       "      <th>GDP_PWT</th>\n",
       "      <th>GDP_PC_PWT</th>\n",
       "      <th>gov_consumption_WB</th>\n",
       "      <th>years_schooling</th>\n",
       "      <th>democracy_index</th>\n",
       "      <th>GDP_MP_WB</th>\n",
       "      <th>GDP_growth_WB</th>\n",
       "      <th>inflation_WB</th>\n",
       "      <th>fertility_WB</th>\n",
       "    </tr>\n",
       "    <tr>\n",
       "      <th>code</th>\n",
       "      <th>year</th>\n",
       "      <th></th>\n",
       "      <th></th>\n",
       "      <th></th>\n",
       "      <th></th>\n",
       "      <th></th>\n",
       "      <th></th>\n",
       "      <th></th>\n",
       "      <th></th>\n",
       "      <th></th>\n",
       "      <th></th>\n",
       "      <th></th>\n",
       "    </tr>\n",
       "  </thead>\n",
       "  <tbody>\n",
       "    <tr>\n",
       "      <th rowspan=\"5\" valign=\"top\">AAB</th>\n",
       "      <th>1981</th>\n",
       "      <td>NaN</td>\n",
       "      <td> NaN</td>\n",
       "      <td>NaN</td>\n",
       "      <td>NaN</td>\n",
       "      <td>NaN</td>\n",
       "      <td>NaN</td>\n",
       "      <td> 12.48</td>\n",
       "      <td>NaN</td>\n",
       "      <td>NaN</td>\n",
       "      <td>NaN</td>\n",
       "      <td>NaN</td>\n",
       "    </tr>\n",
       "    <tr>\n",
       "      <th>1982</th>\n",
       "      <td>NaN</td>\n",
       "      <td> NaN</td>\n",
       "      <td>NaN</td>\n",
       "      <td>NaN</td>\n",
       "      <td>NaN</td>\n",
       "      <td>NaN</td>\n",
       "      <td> 12.48</td>\n",
       "      <td>NaN</td>\n",
       "      <td>NaN</td>\n",
       "      <td>NaN</td>\n",
       "      <td>NaN</td>\n",
       "    </tr>\n",
       "    <tr>\n",
       "      <th>1983</th>\n",
       "      <td>NaN</td>\n",
       "      <td> NaN</td>\n",
       "      <td>NaN</td>\n",
       "      <td>NaN</td>\n",
       "      <td>NaN</td>\n",
       "      <td>NaN</td>\n",
       "      <td> 12.48</td>\n",
       "      <td>NaN</td>\n",
       "      <td>NaN</td>\n",
       "      <td>NaN</td>\n",
       "      <td>NaN</td>\n",
       "    </tr>\n",
       "    <tr>\n",
       "      <th>1984</th>\n",
       "      <td>NaN</td>\n",
       "      <td> NaN</td>\n",
       "      <td>NaN</td>\n",
       "      <td>NaN</td>\n",
       "      <td>NaN</td>\n",
       "      <td>NaN</td>\n",
       "      <td>  7.91</td>\n",
       "      <td>NaN</td>\n",
       "      <td>NaN</td>\n",
       "      <td>NaN</td>\n",
       "      <td>NaN</td>\n",
       "    </tr>\n",
       "    <tr>\n",
       "      <th>1985</th>\n",
       "      <td>NaN</td>\n",
       "      <td> NaN</td>\n",
       "      <td>NaN</td>\n",
       "      <td>NaN</td>\n",
       "      <td>NaN</td>\n",
       "      <td>NaN</td>\n",
       "      <td>  7.91</td>\n",
       "      <td>NaN</td>\n",
       "      <td>NaN</td>\n",
       "      <td>NaN</td>\n",
       "      <td>NaN</td>\n",
       "    </tr>\n",
       "  </tbody>\n",
       "</table>\n",
       "</div>"
      ],
      "text/plain": [
       "           gini_DS quality  GDP_PWT  GDP_PC_PWT  gov_consumption_WB  \\\n",
       "code year                                                             \n",
       "AAB  1981      NaN     NaN      NaN         NaN                 NaN   \n",
       "     1982      NaN     NaN      NaN         NaN                 NaN   \n",
       "     1983      NaN     NaN      NaN         NaN                 NaN   \n",
       "     1984      NaN     NaN      NaN         NaN                 NaN   \n",
       "     1985      NaN     NaN      NaN         NaN                 NaN   \n",
       "\n",
       "           years_schooling  democracy_index  GDP_MP_WB  GDP_growth_WB  \\\n",
       "code year                                                               \n",
       "AAB  1981              NaN            12.48        NaN            NaN   \n",
       "     1982              NaN            12.48        NaN            NaN   \n",
       "     1983              NaN            12.48        NaN            NaN   \n",
       "     1984              NaN             7.91        NaN            NaN   \n",
       "     1985              NaN             7.91        NaN            NaN   \n",
       "\n",
       "           inflation_WB  fertility_WB  \n",
       "code year                              \n",
       "AAB  1981           NaN           NaN  \n",
       "     1982           NaN           NaN  \n",
       "     1983           NaN           NaN  \n",
       "     1984           NaN           NaN  \n",
       "     1985           NaN           NaN  "
      ]
     },
     "execution_count": 114,
     "metadata": {},
     "output_type": "execute_result"
    }
   ],
   "source": [
    "data = pd.read_csv(\"barro_data.csv\", index_col=['code', 'year'])\n",
    "country_list = pd.read_csv(\"../data_source/country_code_list.csv\", index_col='country')\n",
    "data.head()"
   ]
  },
  {
   "cell_type": "markdown",
   "metadata": {},
   "source": [
    "We only data keep posterior to 1960. We also remove the countries that do not appear in the list of countries. "
   ]
  },
  {
   "cell_type": "code",
   "execution_count": 115,
   "metadata": {
    "collapsed": false
   },
   "outputs": [
    {
     "name": "stdout",
     "output_type": "stream",
     "text": [
      "<class 'pandas.core.frame.DataFrame'>\n",
      "MultiIndex: 13400 entries, (ABW, 1960.0) to (ZWE, 2014.0)\n",
      "Data columns (total 11 columns):\n",
      "gini_DS               2321 non-null float64\n",
      "quality               2322 non-null object\n",
      "GDP_PWT               9336 non-null float64\n",
      "GDP_PC_PWT            9336 non-null float64\n",
      "gov_consumption_WB    8897 non-null float64\n",
      "years_schooling       2099 non-null float64\n",
      "democracy_index       3880 non-null float64\n",
      "GDP_MP_WB             9634 non-null float64\n",
      "GDP_growth_WB         9607 non-null float64\n",
      "inflation_WB          7748 non-null float64\n",
      "fertility_WB          11733 non-null float64\n",
      "dtypes: float64(10), object(1)\n",
      "memory usage: 1.2 MB\n"
     ]
    }
   ],
   "source": [
    "data = data.query('year >= 1955')\n",
    "data = data.query(\"code in \" + str(country_list['code'].values.tolist()))\n",
    "data.info()"
   ]
  },
  {
   "cell_type": "markdown",
   "metadata": {},
   "source": [
    "# Bad quality data"
   ]
  },
  {
   "cell_type": "markdown",
   "metadata": {},
   "source": [
    "In his study, Barro change 48 observations quality to 'accept' (cf. note 11), these observations have been gathered in the file added_observations.csv."
   ]
  },
  {
   "cell_type": "code",
   "execution_count": 116,
   "metadata": {
    "collapsed": false
   },
   "outputs": [
    {
     "data": {
      "text/plain": [
       "609"
      ]
     },
     "execution_count": 116,
     "metadata": {},
     "output_type": "execute_result"
    }
   ],
   "source": [
    "added_obs = pd.read_csv(\"added_observations.csv\", names=['country', 'year'])\n",
    "for row in added_obs.iterrows():\n",
    "    for year in (np.array([-5, -4, -3, -2, -1, 1, 2, 3, 4, 5]) + row[1]['year']):\n",
    "        added_obs.loc[len(added_obs)] = [row[1]['country'], year]\n",
    "added_obs['code'] = added_obs['country'].map(lambda x: country_list.loc[x]['code'])\n",
    "len(data[data['quality']=='accept'])"
   ]
  },
  {
   "cell_type": "code",
   "execution_count": 117,
   "metadata": {
    "collapsed": false
   },
   "outputs": [
    {
     "data": {
      "text/plain": [
       "1229"
      ]
     },
     "execution_count": 117,
     "metadata": {},
     "output_type": "execute_result"
    }
   ],
   "source": [
    "for obs in added_obs.iterrows():\n",
    "    try:\n",
    "        data.loc[(obs[1]['code'], obs[1]['year']), 'quality'] = 'accept'\n",
    "    except KeyError:\n",
    "        None\n",
    "len(data[data['quality']=='accept'])"
   ]
  },
  {
   "cell_type": "code",
   "execution_count": 118,
   "metadata": {
    "collapsed": false
   },
   "outputs": [],
   "source": [
    "data = data[data['quality'].isnull() | data['quality'].map(lambda x: x=='accept')]"
   ]
  },
  {
   "cell_type": "markdown",
   "metadata": {},
   "source": [
    "# Resampling the data"
   ]
  },
  {
   "cell_type": "code",
   "execution_count": 119,
   "metadata": {
    "collapsed": false
   },
   "outputs": [],
   "source": [
    "period = \"5AS\"\n",
    "re_data = pd.DataFrame()\n",
    "for country in set(data.index.levels[0].values):\n",
    "    sel = data.loc[country]\n",
    "    sel.index = sel.index.map(lambda x: datetime.datetime(int(x), 1, 1, 0, 0, 0))\n",
    "    sel = sel.resample(period)\n",
    "    sel['code'] = [country] * len(sel)\n",
    "    re_data = pd.concat([re_data, sel], axis=0)\n",
    "re_data = re_data.sort_index()"
   ]
  },
  {
   "cell_type": "code",
   "execution_count": 120,
   "metadata": {
    "collapsed": false
   },
   "outputs": [
    {
     "name": "stdout",
     "output_type": "stream",
     "text": [
      "<class 'pandas.core.frame.DataFrame'>\n",
      "MultiIndex: 2418 entries, (ABW, 1960-01-01 00:00:00) to (ZWE, 2010-01-01 00:00:00)\n",
      "Data columns (total 11 columns):\n",
      "GDP_MP_WB             1686 non-null float64\n",
      "GDP_PC_PWT            1685 non-null float64\n",
      "GDP_PWT               1685 non-null float64\n",
      "GDP_growth_WB         1724 non-null float64\n",
      "democracy_index       682 non-null float64\n",
      "fertility_WB          2136 non-null float64\n",
      "gini_DS               392 non-null float64\n",
      "gov_consumption_WB    1565 non-null float64\n",
      "inflation_WB          1400 non-null float64\n",
      "quality               0 non-null object\n",
      "years_schooling       1644 non-null float64\n",
      "dtypes: float64(10), object(1)\n",
      "memory usage: 226.7 KB\n"
     ]
    }
   ],
   "source": [
    "re_data['year'] = re_data.index\n",
    "re_data = re_data.set_index(['code', 'year'])\n",
    "re_data = re_data.sort_index()\n",
    "re_data.info()"
   ]
  },
  {
   "cell_type": "markdown",
   "metadata": {},
   "source": [
    "# Ploting the data"
   ]
  },
  {
   "cell_type": "code",
   "execution_count": null,
   "metadata": {
    "collapsed": true
   },
   "outputs": [],
   "source": []
  },
  {
   "cell_type": "code",
   "execution_count": null,
   "metadata": {
    "collapsed": true
   },
   "outputs": [],
   "source": []
  },
  {
   "cell_type": "code",
   "execution_count": null,
   "metadata": {
    "collapsed": true
   },
   "outputs": [],
   "source": []
  },
  {
   "cell_type": "code",
   "execution_count": null,
   "metadata": {
    "collapsed": true
   },
   "outputs": [],
   "source": []
  },
  {
   "cell_type": "code",
   "execution_count": null,
   "metadata": {
    "collapsed": true
   },
   "outputs": [],
   "source": []
  },
  {
   "cell_type": "code",
   "execution_count": null,
   "metadata": {
    "collapsed": true
   },
   "outputs": [],
   "source": []
  },
  {
   "cell_type": "code",
   "execution_count": null,
   "metadata": {
    "collapsed": true
   },
   "outputs": [],
   "source": []
  },
  {
   "cell_type": "code",
   "execution_count": null,
   "metadata": {
    "collapsed": true
   },
   "outputs": [],
   "source": []
  },
  {
   "cell_type": "code",
   "execution_count": 125,
   "metadata": {
    "collapsed": false
   },
   "outputs": [
    {
     "name": "stdout",
     "output_type": "stream",
     "text": [
      "<class 'pandas.core.frame.DataFrame'>\n",
      "MultiIndex: 392 entries, (ARG, 1955-01-01 00:00:00) to (ZWE, 1990-01-01 00:00:00)\n",
      "Data columns (total 11 columns):\n",
      "GDP_MP_WB             340 non-null float64\n",
      "GDP_PC_PWT            373 non-null float64\n",
      "GDP_PWT               373 non-null float64\n",
      "GDP_growth_WB         341 non-null float64\n",
      "democracy_index       187 non-null float64\n",
      "fertility_WB          367 non-null float64\n",
      "gini_DS               392 non-null float64\n",
      "gov_consumption_WB    334 non-null float64\n",
      "inflation_WB          295 non-null float64\n",
      "quality               0 non-null object\n",
      "years_schooling       339 non-null float64\n",
      "dtypes: float64(10), object(1)\n",
      "memory usage: 36.8 KB\n"
     ]
    }
   ],
   "source": [
    "re_data[~re_data['gini_DS'].isnull()].info()"
   ]
  },
  {
   "cell_type": "code",
   "execution_count": null,
   "metadata": {
    "collapsed": true
   },
   "outputs": [],
   "source": []
  }
 ],
 "metadata": {
  "kernelspec": {
   "display_name": "Python 2",
   "language": "python",
   "name": "python2"
  },
  "language_info": {
   "codemirror_mode": {
    "name": "ipython",
    "version": 2
   },
   "file_extension": ".py",
   "mimetype": "text/x-python",
   "name": "python",
   "nbconvert_exporter": "python",
   "pygments_lexer": "ipython2",
   "version": "2.7.6"
  }
 },
 "nbformat": 4,
 "nbformat_minor": 0
}
